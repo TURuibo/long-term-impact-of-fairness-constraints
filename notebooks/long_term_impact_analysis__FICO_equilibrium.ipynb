{
 "cells": [
  {
   "cell_type": "code",
   "execution_count": 1,
   "metadata": {
    "pycharm": {
     "is_executing": false
    }
   },
   "outputs": [],
   "source": [
    "import pandas as pd\n",
    "import numpy as np\n",
    "import random\n",
    "import matplotlib.pyplot as plt\n",
    "import sys\n",
    "import time\n",
    "sys.path.append('../')\n",
    "\n",
    "from util import *\n",
    "from fico_util import *\n",
    "pd.set_option('display.max_columns', None)\n",
    "pd.set_option('display.max_rows', None)"
   ]
  },
  {
   "cell_type": "markdown",
   "metadata": {},
   "source": [
    "## Define a model for the study of long-term impact of fairness contraints in FICO\n",
    "\n",
    "### Initial qualification rates \n",
    "The qualification rates are $\\alpha^0=0.34$ and  $\\alpha^1=0.76$.  \n",
    "The demographic proportions are $P(S=0)=0.12$ and $P(S=1)=0.88$."
   ]
  },
  {
   "cell_type": "code",
   "execution_count": 2,
   "metadata": {},
   "outputs": [],
   "source": [
    "P_C = 0.88\n",
    "P_AA = 0.12\n",
    "alpha_aa_ini=0.34\n",
    "alpha_c_ini=0.76"
   ]
  },
  {
   "cell_type": "code",
   "execution_count": 3,
   "metadata": {},
   "outputs": [],
   "source": [
    "a_c0=1.22\n",
    "b_c0=13.25\n",
    "a_c1=2.12\n",
    "b_c1=1.16\n",
    "a_aa0= a_c0\n",
    "b_aa0= b_c0\n",
    "a_aa1= a_c1\n",
    "b_aa1= b_c1\n",
    "# a_c0=1.22\n",
    "# b_c0=13.25\n",
    "# a_c1=2.12\n",
    "# b_c1=1.16\n",
    "# a_aa0=1.18\n",
    "# b_aa0=16.96\n",
    "# a_aa1=1.81\n",
    "# b_aa1=2.26"
   ]
  },
  {
   "cell_type": "markdown",
   "metadata": {},
   "source": [
    "### Transition probability \n",
    "-  $P(Y_{t+1} = 1 \\mid Y_t = y, A_t = a, S=s)$, represented by an array T[ y, a, s]: the probability to be qualified given the current qualification state $Y_t=y$, decision $A_t = a$, and the group $S=s$, i.e.,\n",
    "- The following defined transition is under Condition 1(ii) in the paper.\n"
   ]
  },
  {
   "cell_type": "code",
   "execution_count": 4,
   "metadata": {
    "pycharm": {}
   },
   "outputs": [],
   "source": [
    "# Define the transition matrix under Condition 1(ii)\n",
    "# The order of index in T: \n",
    "# [\"qualification state\", \"decision\", \"group\"]\n",
    "T = np.zeros((2, 2, 2))\n",
    "\n",
    "T[0,0,0] = 0.1 # \"AA\"\n",
    "T[0,1,0] = 0.3\n",
    "T[1,0,0] = 0.4\n",
    "T[1,1,0] = 0.6\n",
    "\n",
    "T[0,0,1] = 0.4  # C\n",
    "T[0,1,1] = 0.6\n",
    "T[1,0,1] = 0.6\n",
    "T[1,1,1] = 0.9"
   ]
  },
  {
   "cell_type": "markdown",
   "metadata": {},
   "source": [
    "### Dynamics\n",
    "$\\alpha^s_{t+1} = g^{0s}_t + (g^{1s}_t-g^{0s}_t) \\alpha^s_t$.  \n",
    "- $g^{0s}_t = T[0,0,s]\\mathbb{E}_{X\\mid 0,s}(\\hat{Y} = 0) + T[0,1,s] \\mathbb{E}_{X\\mid 0,s}(\\hat{Y} = 1)$  \n",
    "- $g^{1s}_t = T[1,0,s] \\mathbb{E}_{X\\mid 1,s}(\\hat{Y} = 0) + T[1,1,s] \\mathbb{E}_{X\\mid 1,s}(\\hat{Y} = 1)$\n",
    "- T[ y, a, s] represents $P(Y_{t+1} = 1 \\mid Y_t = y, A_t = a, S=s)$.  \n",
    "- E[ y, a, s] represents $\\mathbb{E}_{X\\mid y,s}(\\hat{Y} = a)$."
   ]
  },
  {
   "cell_type": "code",
   "execution_count": 5,
   "metadata": {},
   "outputs": [],
   "source": [
    "def update(alpha,tpr,fpr,T, group):\n",
    "    g0 = T[0,0,group]*(1-fpr[group]) + T[0,1,group]*fpr[group]\n",
    "    g1 = T[1,0,group]*(1-tpr[group]) + T[1,1,group]*tpr[group]\n",
    "    return alpha*g1 + (1-alpha)*g0"
   ]
  },
  {
   "cell_type": "code",
   "execution_count": 6,
   "metadata": {},
   "outputs": [],
   "source": [
    "def balance_diff(alpha,tpr,fpr,T, group):\n",
    "    g0 = T[0,0,group]*(1-fpr[group]) + T[0,1,group]*fpr[group]\n",
    "    g1 = T[1,0,group]*(1-tpr[group]) + T[1,1,group]*tpr[group]    \n",
    "    return g0 + (g1-g0-1)*alpha "
   ]
  },
  {
   "cell_type": "markdown",
   "metadata": {
    "pycharm": {}
   },
   "source": [
    "### The evolution trajectory of qualification rates   \n",
    "\n",
    "In this study, we consider the demographic invariant generation case. The generation distribution is not changed over time, but the ratio of different subgroups is changed, i.e., the qualification rate. Therefore, we can use resampling to get the dataset at each time step.\n",
    "\n",
    "*The algorithm:*\n",
    "1. Compute the ratio for each subgroup;  \n",
    "2. Sample from the original dataset according to the subgroup-wised ratio;  \n",
    "3. Apply a classifier to estimating the decision boundary;\n",
    "4. Apply the dynamics to compute the ratio in next time step.\n",
    " "
   ]
  },
  {
   "cell_type": "code",
   "execution_count": 7,
   "metadata": {},
   "outputs": [],
   "source": [
    "def update_qualification_rates(alpha_aa, alpha_c, T, policy,\n",
    "                               fn=None, Pf_aa=None, Pf_c=None,\n",
    "                               paa=P_AA, pc=P_C,\n",
    "                               a_aa0=a_aa0, b_aa0=b_aa0,a_aa1=a_aa1, b_aa1=b_aa1,\n",
    "                               a_c0=a_c0, b_c0=b_c0, a_c1=a_c1, b_c1=b_c1):\n",
    "    \n",
    "    tpr,fpr = eva_classifier_fn(alpha_aa,alpha_c, policy,fn, Pf_aa, Pf_c,\n",
    "                             paa, pc,\n",
    "                             a_aa0=a_aa0, b_aa0=b_aa0,a_aa1=a_aa1, b_aa1=b_aa1,\n",
    "                             a_c0=a_c0, b_c0=b_c0, a_c1=a_c1, b_c1=b_c1)  \n",
    "    \n",
    "    alpha_aa_next = update(alpha_aa,tpr,fpr,T,group = 0)\n",
    "    alpha_c_next = update(alpha_c,tpr,fpr,T,group = 1)\n",
    "    return alpha_aa_next,alpha_c_next"
   ]
  },
  {
   "cell_type": "code",
   "execution_count": 8,
   "metadata": {},
   "outputs": [],
   "source": [
    "def compute_balance_diff(alpha_aa, alpha_c, T, policy,\n",
    "                         fn=None, Pf_aa=None, Pf_c=None,\n",
    "                         paa=P_AA, pc=P_C,\n",
    "                         a_aa0=a_aa0,b_aa0=b_aa0,a_aa1=a_aa1,b_aa1=b_aa1,\n",
    "                         a_c0=a_c0,b_c0=b_c0,a_c1=a_c1,b_c1=b_c1):\n",
    "    \n",
    "    tpr,fpr = eva_classifier_fn(alpha_aa,alpha_c,policy,fn, Pf_aa, Pf_c,\n",
    "                             paa,pc,\n",
    "                             a_aa0,b_aa0,a_aa1,b_aa1,\n",
    "                             a_c0,b_c0,a_c1,b_c1)    \n",
    "    group0 = balance_diff(alpha_aa,tpr,fpr,T,group=0)\n",
    "    group1 = balance_diff(alpha_c,tpr,fpr,T,group=1)\n",
    "    return group0, group1"
   ]
  },
  {
   "cell_type": "markdown",
   "metadata": {
    "pycharm": {}
   },
   "source": [
    "### Evolution behavior in the UN case\n",
    "**Evolution behavior.** From one sample result, we can see the evolution behavior. The figure indicates that in the UN case, qualification rates converge to an unique equiibria."
   ]
  },
  {
   "cell_type": "code",
   "execution_count": 9,
   "metadata": {
    "pycharm": {},
    "scrolled": false
   },
   "outputs": [
    {
     "data": {
      "image/png": "[encoded data removed]",
      "text/plain": [
       "<Figure size 432x288 with 1 Axes>"
      ]
     },
     "metadata": {
      "needs_background": "light"
     },
     "output_type": "display_data"
    }
   ],
   "source": [
    "np.random.seed(777)\n",
    "MAX_ITERATION_EQUILIBRIUM = 10\n",
    "\n",
    "alpha0, alpha1 =  alpha_aa_ini,alpha_c_ini\n",
    "alpha0_un_evolution=[alpha0]\n",
    "alpha1_un_evolution=[alpha1]\n",
    "for _ in range(MAX_ITERATION_EQUILIBRIUM):\n",
    "    alpha0, alpha1 = update_qualification_rates(alpha0, alpha1, T, 'UN')\n",
    "    alpha0_un_evolution.append(alpha0)\n",
    "    alpha1_un_evolution.append(alpha1)\n",
    "\n",
    "\n",
    "plt.figure()\n",
    "plt.axis('square')\n",
    "plt.plot(alpha1_un_evolution,alpha0_un_evolution,'o-')\n",
    "plt.ylim(0, 1)\n",
    "plt.xlim(0, 1)\n",
    "\n",
    "plt.xlabel('alpha1')\n",
    "plt.ylabel('alpha0')\n",
    "plt.title(\"One trajectory of qualification rates.\")\n",
    "plt.show()\n"
   ]
  },
  {
   "cell_type": "code",
   "execution_count": 10,
   "metadata": {
    "scrolled": false
   },
   "outputs": [
    {
     "name": "stdout",
     "output_type": "stream",
     "text": [
      "0.7917683343466355 0.19445585090079026\n",
      "0.5973124834458452\n"
     ]
    }
   ],
   "source": [
    "print(alpha1_un_evolution[-1],alpha0_un_evolution[-1])\n",
    "print(alpha1_un_evolution[-1]-alpha0_un_evolution[-1])"
   ]
  },
  {
   "cell_type": "markdown",
   "metadata": {},
   "source": [
    "**Balanced curves and evolution behavior.**"
   ]
  },
  {
   "cell_type": "code",
   "execution_count": 13,
   "metadata": {
    "scrolled": true
   },
   "outputs": [
    {
     "name": "stdout",
     "output_type": "stream",
     "text": [
      "99.0%"
     ]
    }
   ],
   "source": [
    "TOTAL_STEP = 10\n",
    "alphaList = np.linspace(0.05,0.95,TOTAL_STEP)\n",
    "\n",
    "group0_UN = np.zeros([len(alphaList),len(alphaList)])\n",
    "group1_UN = np.zeros([len(alphaList),len(alphaList)])\n",
    "\n",
    "for i, alpha0 in enumerate(alphaList):\n",
    "    for j, alpha1 in enumerate(alphaList):\n",
    "        sys.stdout.write(\"\\r{0}%\".format(str((i*TOTAL_STEP + j)*100/(TOTAL_STEP*TOTAL_STEP))))\n",
    "        group0_UN[i,j],group1_UN[i,j] = compute_balance_diff(alpha0,alpha1,T,'UN')\n"
   ]
  },
  {
   "cell_type": "code",
   "execution_count": 14,
   "metadata": {},
   "outputs": [
    {
     "data": {
      "image/png": "[encoded data removed]",
      "text/plain": [
       "<Figure size 576x288 with 3 Axes>"
      ]
     },
     "metadata": {
      "needs_background": "light"
     },
     "output_type": "display_data"
    }
   ],
   "source": [
    "vmin=np.min([group0_UN,group1_UN])\n",
    "vmax=z_max=np.max([group0_UN,group1_UN])\n",
    "\n",
    "fig, (ax0, ax1) = plt.subplots(ncols=2,figsize=(8, 4))\n",
    "\n",
    "im0 = ax0.pcolormesh(group0_UN, cmap='gist_rainbow',vmin=vmin,vmax=vmax)\n",
    "im1= ax1.pcolormesh(group1_UN, cmap='gist_rainbow',vmin=vmin,vmax=vmax)\n",
    "\n",
    "fig.colorbar(im1, ax=ax1)\n",
    "plt.show()"
   ]
  },
  {
   "cell_type": "markdown",
   "metadata": {
    "pycharm": {}
   },
   "source": [
    "### The EqOpt case\n"
   ]
  },
  {
   "cell_type": "code",
   "execution_count": 11,
   "metadata": {
    "pycharm": {},
    "scrolled": true
   },
   "outputs": [
    {
     "data": {
      "image/png": "[encoded data removed]",
      "text/plain": [
       "<Figure size 432x288 with 1 Axes>"
      ]
     },
     "metadata": {
      "needs_background": "light"
     },
     "output_type": "display_data"
    }
   ],
   "source": [
    "np.random.seed(777)\n",
    "MAX_ITERATION_EQUILIBRIUM = 10\n",
    "\n",
    "alpha0, alpha1 =  alpha_aa_ini,alpha_c_ini\n",
    "alpha0_eqopt_evolution=[alpha0]\n",
    "alpha1_eqopt_evolution=[alpha1]\n",
    "for _ in range(MAX_ITERATION_EQUILIBRIUM):\n",
    "    alpha0, alpha1 = update_qualification_rates(alpha0, alpha1, T, 'EqOpt',f_eqopt, Peqopt_aa, Peqopt_c,\n",
    "                                                paa=P_AA, pc=P_C,\n",
    "                                                a_aa0=a_aa0, b_aa0=b_aa0,a_aa1=a_aa1, b_aa1=b_aa1,\n",
    "                                                a_c0=a_c0, b_c0=b_c0, a_c1=a_c1, b_c1=b_c1\n",
    "                                               )\n",
    "    alpha0_eqopt_evolution.append(alpha0)\n",
    "    alpha1_eqopt_evolution.append(alpha1)  \n",
    "\n",
    "plt.figure()\n",
    "plt.axis('square')\n",
    "plt.plot(alpha1_eqopt_evolution,alpha0_eqopt_evolution,'o-')\n",
    "plt.ylim(0, 1)\n",
    "plt.xlim(0, 1)\n",
    "\n",
    "plt.xlabel('alpha1')\n",
    "plt.ylabel('alpha0')\n",
    "plt.title(\"One trajectory of qualification rates.\")\n",
    "plt.show()\n",
    "\n"
   ]
  },
  {
   "cell_type": "code",
   "execution_count": 12,
   "metadata": {
    "scrolled": false
   },
   "outputs": [
    {
     "name": "stdout",
     "output_type": "stream",
     "text": [
      "0.7859166203576368 0.21824371460688086\n",
      "0.5676729057507559\n"
     ]
    }
   ],
   "source": [
    "print(alpha1_eqopt_evolution[-1],alpha0_eqopt_evolution[-1])\n",
    "print(alpha1_eqopt_evolution[-1]-alpha0_eqopt_evolution[-1])"
   ]
  },
  {
   "cell_type": "markdown",
   "metadata": {},
   "source": [
    "**Balanced curves and evolution behavior.**"
   ]
  },
  {
   "cell_type": "code",
   "execution_count": 308,
   "metadata": {
    "pycharm": {},
    "scrolled": true
   },
   "outputs": [
    {
     "name": "stdout",
     "output_type": "stream",
     "text": [
      "\r",
      "0.0%"
     ]
    },
    {
     "name": "stderr",
     "output_type": "stream",
     "text": [
      "invalid value encountered in double_scalars\n"
     ]
    },
    {
     "name": "stdout",
     "output_type": "stream",
     "text": [
      "99.0%"
     ]
    }
   ],
   "source": [
    "TOTAL_STEP = 10\n",
    "alphaList = np.linspace(0.05,0.95,TOTAL_STEP)\n",
    "\n",
    "group0_eqopt = np.zeros([len(alphaList),len(alphaList)])\n",
    "group1_eqopt = np.zeros([len(alphaList),len(alphaList)])\n",
    "\n",
    "for i, alpha0 in enumerate(alphaList):\n",
    "    for j, alpha1 in enumerate(alphaList):\n",
    "        sys.stdout.write(\"\\r{0}%\".format(str((i*TOTAL_STEP + j)*100/(TOTAL_STEP*TOTAL_STEP))))\n",
    "        group0_eqopt[i,j],group1_eqopt[i,j] = compute_balance_diff(alpha0,alpha1,T,'EqOpt', f_eqopt, Peqopt_aa, Peqopt_c,)\n"
   ]
  },
  {
   "cell_type": "code",
   "execution_count": 17,
   "metadata": {
    "scrolled": true
   },
   "outputs": [
    {
     "data": {
      "image/png": "[encoded data removed]",
      "text/plain": [
       "<Figure size 576x288 with 3 Axes>"
      ]
     },
     "metadata": {
      "needs_background": "light"
     },
     "output_type": "display_data"
    }
   ],
   "source": [
    "vmin=np.min([group0_UN,group1_UN])\n",
    "vmax=z_max=np.max([group0_UN,group1_UN])\n",
    "\n",
    "fig, (ax0, ax1) = plt.subplots(ncols=2,figsize=(8, 4))\n",
    "\n",
    "im0 = ax0.pcolormesh(group0_UN, cmap='gist_rainbow',vmin=vmin,vmax=vmax)\n",
    "im1= ax1.pcolormesh(group1_UN, cmap='gist_rainbow',vmin=vmin,vmax=vmax)\n",
    "\n",
    "fig.colorbar(im1, ax=ax1)\n",
    "plt.show()"
   ]
  },
  {
   "cell_type": "markdown",
   "metadata": {
    "pycharm": {}
   },
   "source": [
    "### The EO case\n"
   ]
  },
  {
   "cell_type": "code",
   "execution_count": 13,
   "metadata": {
    "pycharm": {},
    "scrolled": true
   },
   "outputs": [
    {
     "data": {
      "image/png": "[encoded data removed]",
      "text/plain": [
       "<Figure size 432x288 with 1 Axes>"
      ]
     },
     "metadata": {
      "needs_background": "light"
     },
     "output_type": "display_data"
    }
   ],
   "source": [
    "np.random.seed(777)\n",
    "MAX_ITERATION_EQUILIBRIUM = 10\n",
    "\n",
    "alpha0, alpha1 =  alpha_aa_ini,alpha_c_ini\n",
    "alpha0_eo_evolution=[alpha0]\n",
    "alpha1_eo_evolution=[alpha1]\n",
    "for _ in range(MAX_ITERATION_EQUILIBRIUM):\n",
    "    alpha0, alpha1 = update_qualification_rates(alpha0, alpha1, T, 'EO',f_eo, Peo_aa, Peo_c,\n",
    "                                                paa=P_AA, pc=P_C,\n",
    "                                                a_aa0=a_aa0, b_aa0=b_aa0,a_aa1=a_aa1, b_aa1=b_aa1,\n",
    "                                                a_c0=a_c0, b_c0=b_c0, a_c1=a_c1, b_c1=b_c1\n",
    "                                               )\n",
    "    alpha0_eo_evolution.append(alpha0)\n",
    "    alpha1_eo_evolution.append(alpha1)  \n",
    "\n",
    "plt.figure()\n",
    "plt.axis('square')\n",
    "plt.plot(alpha1_eo_evolution,alpha0_eo_evolution,'o-')\n",
    "plt.ylim(0, 1)\n",
    "plt.xlim(0, 1)\n",
    "\n",
    "plt.xlabel('alpha1')\n",
    "plt.ylabel('alpha0')\n",
    "plt.title(\"One trajectory of qualification rates.\")\n",
    "plt.show()\n",
    "\n"
   ]
  },
  {
   "cell_type": "code",
   "execution_count": 14,
   "metadata": {
    "scrolled": false
   },
   "outputs": [
    {
     "name": "stdout",
     "output_type": "stream",
     "text": [
      "0.8541134744832692 0.41655634521944895\n",
      "0.4375571292638203\n"
     ]
    }
   ],
   "source": [
    "print(alpha1_eo_evolution[-1],alpha0_eo_evolution[-1])\n",
    "print(alpha1_eo_evolution[-1]-alpha0_eo_evolution[-1])"
   ]
  },
  {
   "cell_type": "markdown",
   "metadata": {},
   "source": [
    "**Balanced curves and evolution behavior.**"
   ]
  },
  {
   "cell_type": "code",
   "execution_count": 75,
   "metadata": {
    "pycharm": {},
    "scrolled": true
   },
   "outputs": [
    {
     "name": "stdout",
     "output_type": "stream",
     "text": [
      "99.0%"
     ]
    }
   ],
   "source": [
    "TOTAL_STEP = 10\n",
    "alphaList = np.linspace(0.05,0.95,TOTAL_STEP)\n",
    "\n",
    "group0_eo = np.zeros([len(alphaList),len(alphaList)])\n",
    "group1_eo = np.zeros([len(alphaList),len(alphaList)])\n",
    "\n",
    "for i, alpha0 in enumerate(alphaList):\n",
    "    for j, alpha1 in enumerate(alphaList):\n",
    "        sys.stdout.write(\"\\r{0}%\".format(str((i*TOTAL_STEP + j)*100/(TOTAL_STEP*TOTAL_STEP))))\n",
    "        group0_eo[i,j],group1_eo[i,j] = compute_balance_diff(alpha0,alpha1,T,'EqOpt', f_eo, Peo_aa, Peo_c,)\n"
   ]
  },
  {
   "cell_type": "code",
   "execution_count": 76,
   "metadata": {
    "scrolled": true
   },
   "outputs": [
    {
     "data": {
      "image/png": "[encoded data removed]",
      "text/plain": [
       "<Figure size 576x288 with 3 Axes>"
      ]
     },
     "metadata": {
      "needs_background": "light"
     },
     "output_type": "display_data"
    }
   ],
   "source": [
    "vmin=np.min([group0_eo,group1_eo])\n",
    "vmax=z_max=np.max([group0_eo,group1_eo])\n",
    "\n",
    "fig, (ax0, ax1) = plt.subplots(ncols=2,figsize=(8, 4))\n",
    "\n",
    "im0 = ax0.pcolormesh(group0_eo, cmap='gist_rainbow',vmin=vmin,vmax=vmax)\n",
    "im1= ax1.pcolormesh(group1_eo, cmap='gist_rainbow',vmin=vmin,vmax=vmax)\n",
    "\n",
    "fig.colorbar(im1, ax=ax1)\n",
    "plt.show()"
   ]
  },
  {
   "cell_type": "markdown",
   "metadata": {
    "pycharm": {}
   },
   "source": [
    "### The DP case\n",
    "\n",
    "**Evolution behavior.**"
   ]
  },
  {
   "cell_type": "code",
   "execution_count": 15,
   "metadata": {},
   "outputs": [
    {
     "data": {
      "image/png": "[encoded data removed]",
      "text/plain": [
       "<Figure size 432x288 with 1 Axes>"
      ]
     },
     "metadata": {
      "needs_background": "light"
     },
     "output_type": "display_data"
    }
   ],
   "source": [
    "np.random.seed(777)\n",
    "MAX_ITERATION_EQUILIBRIUM = 10\n",
    "\n",
    "alpha0, alpha1 =  alpha_aa_ini,alpha_c_ini\n",
    "alpha0_dp_evolution=[alpha0]\n",
    "alpha1_dp_evolution=[alpha1]\n",
    "for _ in range(MAX_ITERATION_EQUILIBRIUM):\n",
    "    alpha0, alpha1 = update_qualification_rates(alpha0, alpha1, T, 'DP',f_dp, Pdp_aa, Pdp_c,\n",
    "                                                paa=P_AA, pc=P_C,\n",
    "                                                a_aa0=a_aa0, b_aa0=b_aa0,a_aa1=a_aa1, b_aa1=b_aa1,\n",
    "                                                a_c0=a_c0, b_c0=b_c0, a_c1=a_c1, b_c1=b_c1\n",
    "                                               )\n",
    "    alpha0_dp_evolution.append(alpha0)\n",
    "    alpha1_dp_evolution.append(alpha1)  \n",
    "\n",
    "plt.figure()\n",
    "plt.axis('square')\n",
    "plt.plot(alpha1_dp_evolution,alpha0_dp_evolution,'o-')\n",
    "plt.ylim(0, 1)\n",
    "plt.xlim(0, 1)\n",
    "\n",
    "plt.xlabel('alpha1')\n",
    "plt.ylabel('alpha0')\n",
    "plt.title(\"One trajectory of qualification rates.\")\n",
    "plt.show()\n",
    "\n",
    "\n"
   ]
  },
  {
   "cell_type": "code",
   "execution_count": 16,
   "metadata": {},
   "outputs": [
    {
     "name": "stdout",
     "output_type": "stream",
     "text": [
      "0.7873759729640994 0.3633421224008953\n",
      "0.42403385056320414\n"
     ]
    }
   ],
   "source": [
    "print(alpha1_dp_evolution[-1],alpha0_dp_evolution[-1])\n",
    "print(alpha1_dp_evolution[-1]-alpha0_dp_evolution[-1])"
   ]
  },
  {
   "cell_type": "code",
   "execution_count": 66,
   "metadata": {},
   "outputs": [
    {
     "name": "stdout",
     "output_type": "stream",
     "text": [
      "99.0%"
     ]
    }
   ],
   "source": [
    "TOTAL_STEP = 10\n",
    "alphaList = np.linspace(0.05,0.95,TOTAL_STEP)\n",
    "\n",
    "group0_dp = np.zeros([len(alphaList),len(alphaList)])\n",
    "group1_dp = np.zeros([len(alphaList),len(alphaList)])\n",
    "\n",
    "for i, alpha0 in enumerate(alphaList):\n",
    "    for j, alpha1 in enumerate(alphaList):\n",
    "        sys.stdout.write(\"\\r{0}%\".format(str((i*TOTAL_STEP + j)*100/(TOTAL_STEP*TOTAL_STEP))))\n",
    "        group0_dp[i,j],group1_dp[i,j] = compute_balance_diff(alpha0,alpha1,T,'DP',f_dp, Pdp_aa, Pdp_c)\n",
    "\n"
   ]
  },
  {
   "cell_type": "code",
   "execution_count": 70,
   "metadata": {},
   "outputs": [
    {
     "data": {
      "image/png": "[encoded data removed]",
      "text/plain": [
       "<Figure size 576x288 with 3 Axes>"
      ]
     },
     "metadata": {
      "needs_background": "light"
     },
     "output_type": "display_data"
    }
   ],
   "source": [
    "vmin=np.min([group0_dp,group1_dp])\n",
    "vmax=z_max=np.max([group0_dp,group1_dp])\n",
    "\n",
    "fig, (ax0, ax1) = plt.subplots(ncols=2,figsize=(8, 4))\n",
    "\n",
    "im0 = ax0.pcolormesh(group0_dp, cmap='gist_rainbow',vmin=vmin,vmax=vmax)\n",
    "im1= ax1.pcolormesh(group1_dp, cmap='gist_rainbow',vmin=vmin,vmax=vmax)\n",
    "\n",
    "fig.colorbar(im1, ax=ax1)\n",
    "plt.show()"
   ]
  },
  {
   "cell_type": "markdown",
   "metadata": {},
   "source": [
    "## Long-term impact of fairness constraints\n",
    "It turns out that under Condition 1(ii),  \n",
    "- Fairness constraints promote the equality.\n",
    "- DP and EO help increase the overall qualification rate, whereas EqOpt decreases it."
   ]
  },
  {
   "cell_type": "code",
   "execution_count": 17,
   "metadata": {
    "scrolled": false
   },
   "outputs": [
    {
     "name": "stdout",
     "output_type": "stream",
     "text": [
      "The equality measure of UN:  -0.5973124834458452\n",
      "The equality measure of DP:  -0.42403385056320414\n",
      "The equality measure of EO:  -0.4375571292638203\n",
      "The equality measure of EqOpt:  -0.5676729057507559\n"
     ]
    }
   ],
   "source": [
    "print('The equality measure of UN: ', alpha0_un_evolution[-1]-alpha1_un_evolution[-1])\n",
    "print('The equality measure of DP: ', alpha0_dp_evolution[-1]-alpha1_dp_evolution[-1])\n",
    "print('The equality measure of EO: ', alpha0_eo_evolution[-1]-alpha1_eo_evolution[-1])\n",
    "print('The equality measure of EqOpt: ', alpha0_eqopt_evolution[-1]-alpha1_eqopt_evolution[-1])"
   ]
  },
  {
   "cell_type": "code",
   "execution_count": 18,
   "metadata": {},
   "outputs": [
    {
     "name": "stdout",
     "output_type": "stream",
     "text": [
      "The overall qualification rate measure of UN:  0.9862241852474258\n",
      "The overall qualification rate measure of DP:  1.1507180953649947\n",
      "The overall qualification rate measure of EO:  1.2706698197027182\n",
      "The overall qualification rate measure of EqOpt:  1.0041603349645176\n"
     ]
    }
   ],
   "source": [
    "print('The overall qualification rate measure of UN: ', alpha0_un_evolution[-1]+alpha1_un_evolution[-1])\n",
    "print('The overall qualification rate measure of DP: ', alpha0_dp_evolution[-1]+alpha1_dp_evolution[-1])\n",
    "print('The overall qualification rate measure of EO: ', alpha0_eo_evolution[-1]+alpha1_eo_evolution[-1])\n",
    "print('The overall qualification rate measure of EqOpt: ', alpha0_eqopt_evolution[-1]+alpha1_eqopt_evolution[-1])"
   ]
  }
 ],
 "metadata": {
  "kernelspec": {
   "display_name": "Python 3",
   "language": "python",
   "name": "python3"
  },
  "language_info": {
   "codemirror_mode": {
    "name": "ipython",
    "version": 3
   },
   "file_extension": ".py",
   "mimetype": "text/x-python",
   "name": "python",
   "nbconvert_exporter": "python",
   "pygments_lexer": "ipython3",
   "version": "3.7.3"
  }
 },
 "nbformat": 4,
 "nbformat_minor": 2
}
