{
 "cells": [
  {
   "cell_type": "code",
   "execution_count": 4,
   "metadata": {
    "pycharm": {
     "is_executing": false
    }
   },
   "outputs": [],
   "source": [
    "import pandas as pd\n",
    "import numpy as np\n",
    "import random\n",
    "import matplotlib.pyplot as plt\n",
    "import sys\n",
    "import time\n",
    "sys.path.append('../')\n",
    "\n",
    "from util import *\n",
    "from fico_util import *\n",
    "pd.set_option('display.max_columns', None)\n",
    "pd.set_option('display.max_rows', None)"
   ]
  },
  {
   "cell_type": "markdown",
   "metadata": {},
   "source": [
    "## Define a model for the study of long-term impact of fairness contraints in FICO\n",
    "\n",
    "### Initial qualification rates \n",
    "The qualification rates are $\\alpha^0=0.34$ and  $\\alpha^1=0.76$.  \n",
    "The demographic proportions are $P(S=0)=0.12$ and $P(S=1)=0.88$."
   ]
  },
  {
   "cell_type": "code",
   "execution_count": 5,
   "metadata": {},
   "outputs": [],
   "source": [
    "P_C = 0.88\n",
    "P_AA = 0.12\n",
    "\n",
    "alpha_aa_ini=0.34\n",
    "alpha_c_ini=0.76"
   ]
  },
  {
   "cell_type": "code",
   "execution_count": 6,
   "metadata": {},
   "outputs": [],
   "source": [
    "\n",
    "a_aa0= 1.07\n",
    "b_aa0= 6.07\n",
    "a_aa1= 1.62\n",
    "b_aa1= 1.76\n",
    "\n",
    "a_c0=1.02\n",
    "b_c0=3.68\n",
    "a_c1=2.12\n",
    "b_c1=1.16"
   ]
  },
  {
   "cell_type": "markdown",
   "metadata": {},
   "source": [
    "### Transition probability \n",
    "-  $P(Y_{t+1} = 1 \\mid Y_t = y, A_t = a, S=s)$, represented by an array T[ y, a, s]: the probability to be qualified given the current qualification state $Y_t=y$, decision $A_t = a$, and the group $S=s$, i.e.,\n",
    "- The following defined transition is under Condition 1(ii) in the paper.\n"
   ]
  },
  {
   "cell_type": "markdown",
   "metadata": {},
   "source": [
    "### Dynamics\n",
    "$\\alpha^s_{t+1} = g^{0s}_t + (g^{1s}_t-g^{0s}_t) \\alpha^s_t$.  \n",
    "- $g^{0s}_t = T[0,0,s]\\mathbb{E}_{X\\mid 0,s}(\\hat{Y} = 0) + T[0,1,s] \\mathbb{E}_{X\\mid 0,s}(\\hat{Y} = 1)$  \n",
    "- $g^{1s}_t = T[1,0,s] \\mathbb{E}_{X\\mid 1,s}(\\hat{Y} = 0) + T[1,1,s] \\mathbb{E}_{X\\mid 1,s}(\\hat{Y} = 1)$\n",
    "- T[ y, a, s] represents $P(Y_{t+1} = 1 \\mid Y_t = y, A_t = a, S=s)$.  \n",
    "- E[ y, a, s] represents $\\mathbb{E}_{X\\mid y,s}(\\hat{Y} = a)$."
   ]
  },
  {
   "cell_type": "code",
   "execution_count": 7,
   "metadata": {},
   "outputs": [],
   "source": [
    "def update(alpha,tpr,fpr,T, group):\n",
    "    g0 = T[0,0,group]*(1-fpr[group]) + T[0,1,group]*fpr[group]\n",
    "    g1 = T[1,0,group]*(1-tpr[group]) + T[1,1,group]*tpr[group]\n",
    "    return alpha*g1 + (1-alpha)*g0"
   ]
  },
  {
   "cell_type": "code",
   "execution_count": 8,
   "metadata": {},
   "outputs": [],
   "source": [
    "def balance_diff(alpha,tpr,fpr,T, group):\n",
    "    g0 = T[0,0,group]*(1-fpr[group]) + T[0,1,group]*fpr[group]\n",
    "    g1 = T[1,0,group]*(1-tpr[group]) + T[1,1,group]*tpr[group]    \n",
    "    return g0 + (g1-g0-1)*alpha "
   ]
  },
  {
   "cell_type": "markdown",
   "metadata": {
    "pycharm": {}
   },
   "source": [
    "### The evolution trajectory of qualification rates   \n",
    "\n",
    "In this study, we consider the demographic invariant generation case. The generation distribution is not changed over time, but the ratio of different subgroups is changed, i.e., the qualification rate. Therefore, we can use resampling to get the dataset at each time step.\n",
    "\n",
    "*The algorithm:*\n",
    "1. Compute the ratio for each subgroup;  \n",
    "2. Sample from the original dataset according to the subgroup-wised ratio;  \n",
    "3. Apply a classifier to estimating the decision boundary;\n",
    "4. Apply the dynamics to compute the ratio in next time step.\n",
    " "
   ]
  },
  {
   "cell_type": "code",
   "execution_count": 9,
   "metadata": {},
   "outputs": [],
   "source": [
    "def update_qualification_rates(alpha_aa, alpha_c, T, policy,\n",
    "                               fn=None, Pf_aa=None, Pf_c=None,\n",
    "                               paa=P_AA, pc=P_C,\n",
    "                               a_aa0=a_aa0, b_aa0=b_aa0,a_aa1=a_aa1, b_aa1=b_aa1,\n",
    "                               a_c0=a_c0, b_c0=b_c0, a_c1=a_c1, b_c1=b_c1):\n",
    "    \n",
    "    tpr,fpr = eva_classifier_fn(alpha_aa,alpha_c, policy,fn, Pf_aa, Pf_c,\n",
    "                             paa, pc,\n",
    "                             a_aa0=a_aa0, b_aa0=b_aa0,a_aa1=a_aa1, b_aa1=b_aa1,\n",
    "                             a_c0=a_c0, b_c0=b_c0, a_c1=a_c1, b_c1=b_c1)  \n",
    "    \n",
    "    alpha_aa_next = update(alpha_aa,tpr,fpr,T,group = 0)\n",
    "    alpha_c_next = update(alpha_c,tpr,fpr,T,group = 1)\n",
    "    return alpha_aa_next,alpha_c_next"
   ]
  },
  {
   "cell_type": "code",
   "execution_count": 10,
   "metadata": {},
   "outputs": [],
   "source": [
    "def compute_balance_diff(alpha_aa, alpha_c, T, policy,\n",
    "                         fn=None, Pf_aa=None, Pf_c=None,\n",
    "                         paa=P_AA, pc=P_C,\n",
    "                         a_aa0=a_aa0,b_aa0=b_aa0,a_aa1=a_aa1,b_aa1=b_aa1,\n",
    "                         a_c0=a_c0,b_c0=b_c0,a_c1=a_c1,b_c1=b_c1):\n",
    "    \n",
    "    tpr,fpr = eva_classifier_fn(alpha_aa,alpha_c,policy,fn, Pf_aa, Pf_c,\n",
    "                             paa,pc,\n",
    "                             a_aa0,b_aa0,a_aa1,b_aa1,\n",
    "                             a_c0,b_c0,a_c1,b_c1)    \n",
    "    group0 = balance_diff(alpha_aa,tpr,fpr,T,group=0)\n",
    "    group1 = balance_diff(alpha_c,tpr,fpr,T,group=1)\n",
    "    return group0, group1"
   ]
  },
  {
   "cell_type": "markdown",
   "metadata": {
    "pycharm": {}
   },
   "source": [
    "### Evolution behavior in the UN case\n",
    "**Evolution behavior.** Starting from different qualification rates, we can see the evolution behavior. The figure indicates that in the UN case, qualification rates converge to an unique equiibria."
   ]
  },
  {
   "cell_type": "code",
   "execution_count": 60,
   "metadata": {
    "pycharm": {},
    "scrolled": true
   },
   "outputs": [
    {
     "name": "stdout",
     "output_type": "stream",
     "text": [
      "0.1\n",
      "0.30000000000000004\n",
      "0.5\n",
      "0.7000000000000001\n",
      "0.9\n"
     ]
    },
    {
     "data": {
      "image/png": "[encoded data removed]",
      "text/plain": [
       "<Figure size 432x288 with 1 Axes>"
      ]
     },
     "metadata": {
      "needs_background": "light"
     },
     "output_type": "display_data"
    }
   ],
   "source": [
    "# Define the transition matrix under Condition 1(ii)\n",
    "# The order of index in T: \n",
    "# [\"qualification state\", \"decision\", \"group\"]\n",
    "MAX_ITERATION_EQUILIBRIUM = 10\n",
    "\n",
    "\n",
    "T = np.zeros((2, 2, 2))\n",
    "plt.figure()\n",
    "plt.axis('square')\n",
    "TList = np.linspace(0.1,0.9,5)\n",
    "\n",
    "\n",
    "un_eq_all0 = []\n",
    "un_eq_all1 = []\n",
    "\n",
    "for j in TList:\n",
    "    print(j)\n",
    "\n",
    "\n",
    "    un_eq0 = []\n",
    "    un_eq1 = []\n",
    "    for i in TList:\n",
    "        T[0,0,0] = 0.1 # \"AA\"\n",
    "        T[0,1,0] = i\n",
    "        T[1,0,0] = j\n",
    "        T[1,1,0] = 0.9\n",
    "\n",
    "        T[0,0,1] = T[0,0,0]\n",
    "        T[0,1,1] = T[0,1,0]\n",
    "        T[1,0,1] = T[1,0,0]\n",
    "        T[1,1,1] = T[1,1,0]\n",
    "        np.random.seed(777)\n",
    "\n",
    "        # The UN case\n",
    "        alpha0, alpha1 =  alpha_aa_ini,alpha_c_ini\n",
    "        alpha0_un_evolution=[alpha0]\n",
    "        alpha1_un_evolution=[alpha1]\n",
    "        for _ in range(MAX_ITERATION_EQUILIBRIUM):\n",
    "            alpha0, alpha1 = update_qualification_rates(alpha0, alpha1, T, 'UN',\n",
    "                                       fn=None, Pf_aa=None, Pf_c=None,\n",
    "                                       paa=P_AA, pc=P_C,\n",
    "                                       a_aa0=a_aa0, b_aa0=b_aa0,a_aa1=a_aa1, b_aa1=b_aa1,\n",
    "                                       a_c0=a_c0, b_c0=b_c0, a_c1=a_c1, b_c1=b_c1)\n",
    "            alpha0_un_evolution.append(alpha0)\n",
    "            alpha1_un_evolution.append(alpha1)\n",
    "        \n",
    "        un_eq0.append(alpha0)\n",
    "        un_eq1.append(alpha1)\n",
    "    un_eq_all0.append(un_eq0)\n",
    "    un_eq_all1.append(un_eq1)\n",
    "    plt.plot(un_eq1,un_eq0,'o-',label=str(j))\n",
    "    # plt.plot(alpha1_dp_evolution,alpha0_dp_evolution,'o-',label='DP')\n",
    "    # plt.plot(alpha1_eqopt_evolution,alpha0_eqopt_evolution,'o-',label='EqOpt')\n",
    "    plt.ylim(0, 1)\n",
    "    plt.xlim(0, 1)\n",
    "    \n",
    "\n",
    "\n",
    "plt.xlabel('alpha_aa')\n",
    "plt.ylabel('alpha_c')\n",
    "plt.legend()\n",
    "plt.show()\n"
   ]
  },
  {
   "cell_type": "code",
   "execution_count": 11,
   "metadata": {
    "scrolled": false
   },
   "outputs": [
    {
     "name": "stdout",
     "output_type": "stream",
     "text": [
      "0.1\n",
      "0.30000000000000004\n",
      "0.5\n",
      "0.7000000000000001\n",
      "0.9\n"
     ]
    },
    {
     "data": {
      "image/png": "[encoded data removed]",
      "text/plain": [
       "<Figure size 432x288 with 1 Axes>"
      ]
     },
     "metadata": {
      "needs_background": "light"
     },
     "output_type": "display_data"
    }
   ],
   "source": [
    "# Define the transition matrix under Condition 1(ii)\n",
    "# The order of index in T: \n",
    "# [\"qualification state\", \"decision\", \"group\"]\n",
    "MAX_ITERATION_EQUILIBRIUM = 10\n",
    "\n",
    "\n",
    "T = np.zeros((2, 2, 2))\n",
    "plt.figure()\n",
    "plt.axis('square')\n",
    "TList = np.linspace(0.1,0.9,5)\n",
    "\n",
    "\n",
    "dp_eq_all0 = []\n",
    "dp_eq_all1 = []\n",
    "\n",
    "for j in TList:\n",
    "    print(j)\n",
    "    dp_eq0 = []\n",
    "    dp_eq1 = []\n",
    "    for i in TList:\n",
    "        T[0,0,0] = 0.1 # \"AA\"\n",
    "        T[0,1,0] = i\n",
    "        T[1,0,0] = j\n",
    "        T[1,1,0] = 0.9\n",
    "\n",
    "        T[0,0,1] = T[0,0,0]\n",
    "        T[0,1,1] = T[0,1,0]\n",
    "        T[1,0,1] = T[1,0,0]\n",
    "        T[1,1,1] = T[1,1,0]\n",
    "        np.random.seed(777)\n",
    "\n",
    "            \n",
    "        alpha0, alpha1 =  alpha_aa_ini,alpha_c_ini\n",
    "        alpha0_dp_evolution=[alpha0]\n",
    "        alpha1_dp_evolution=[alpha1]\n",
    "        for _ in range(MAX_ITERATION_EQUILIBRIUM):\n",
    "            alpha0, alpha1 = update_qualification_rates(alpha0, alpha1, T, 'DP',f_dp, Pdp_aa, Pdp_c,\n",
    "                                                        paa=P_AA, pc=P_C,\n",
    "                                                        a_aa0=a_aa0, b_aa0=b_aa0,a_aa1=a_aa1, b_aa1=b_aa1,\n",
    "                                                        a_c0=a_c0, b_c0=b_c0, a_c1=a_c1, b_c1=b_c1\n",
    "                                                       )\n",
    "            alpha0_dp_evolution.append(alpha0)\n",
    "            alpha1_dp_evolution.append(alpha1)  \n",
    "        \n",
    "        dp_eq0.append(alpha0)\n",
    "        dp_eq1.append(alpha1)\n",
    "    dp_eq_all0.append(dp_eq0)\n",
    "    dp_eq_all1.append(dp_eq1)\n",
    "    plt.plot(dp_eq0,dp_eq1,'o-',label=str(j))\n",
    "    # plt.plot(alpha1_dp_evolution,alpha0_dp_evolution,'o-',label='DP')\n",
    "    # plt.plot(alpha1_eqopt_evolution,alpha0_eqopt_evolution,'o-',label='EqOpt')\n",
    "    plt.ylim(0, 1)\n",
    "    plt.xlim(0, 1)\n",
    "    \n",
    "\n",
    "\n",
    "plt.xlabel('alpha_aa')\n",
    "plt.ylabel('alpha_c')\n",
    "plt.legend()\n",
    "plt.show()\n",
    "\n"
   ]
  },
  {
   "cell_type": "code",
   "execution_count": 82,
   "metadata": {},
   "outputs": [
    {
     "name": "stdout",
     "output_type": "stream",
     "text": [
      "0.1\n",
      "0.30000000000000004\n",
      "0.5\n",
      "0.7000000000000001\n",
      "0.9\n"
     ]
    },
    {
     "data": {
      "image/png": "[encoded data removed]",
      "text/plain": [
       "<Figure size 432x288 with 1 Axes>"
      ]
     },
     "metadata": {
      "needs_background": "light"
     },
     "output_type": "display_data"
    }
   ],
   "source": [
    "# Define the transition matrix under Condition 1(ii)\n",
    "# The order of index in T: \n",
    "# [\"qualification state\", \"decision\", \"group\"]\n",
    "MAX_ITERATION_EQUILIBRIUM = 5\n",
    "\n",
    "\n",
    "T = np.zeros((2, 2, 2))\n",
    "plt.figure()\n",
    "plt.axis('square')\n",
    "TList = np.linspace(0.1,0.9,5)\n",
    "\n",
    "\n",
    "eqopt_all0 = []\n",
    "eqopt_all1 = []\n",
    "\n",
    "for j in TList:\n",
    "    print(j)\n",
    "    eqopt_eq0 = []\n",
    "    eqopt_eq1 = []\n",
    "    for i in TList:\n",
    "        T[0,0,0] = 0.1 # \"AA\"\n",
    "        T[0,1,0] = i\n",
    "        T[1,0,0] = j\n",
    "        T[1,1,0] = 0.9\n",
    "\n",
    "        T[0,0,1] = T[0,0,0]\n",
    "        T[0,1,1] = T[0,1,0]\n",
    "        T[1,0,1] = T[1,0,0]\n",
    "        T[1,1,1] = T[1,1,0]\n",
    "        np.random.seed(777)\n",
    "\n",
    "            \n",
    "        \n",
    "        # The EqOpt case\n",
    "\n",
    "        alpha0, alpha1 =  alpha_aa_ini,alpha_c_ini\n",
    "        alpha0_eqopt_evolution=[alpha0]\n",
    "        alpha1_eqopt_evolution=[alpha1]\n",
    "        for _ in range(MAX_ITERATION_EQUILIBRIUM):\n",
    "            alpha0, alpha1 = update_qualification_rates(alpha0, alpha1, T, 'EqOpt',f_eqopt, Peqopt_aa, Peqopt_c,\n",
    "                                                        paa=P_AA, pc=P_C,\n",
    "                                                        a_aa0=a_aa0, b_aa0=b_aa0,a_aa1=a_aa1, b_aa1=b_aa1,\n",
    "                                                        a_c0=a_c0, b_c0=b_c0, a_c1=a_c1, b_c1=b_c1\n",
    "                                                       )\n",
    "        alpha0_eqopt_evolution.append(alpha0)\n",
    "        alpha1_eqopt_evolution.append(alpha1)  \n",
    "\n",
    "\n",
    "        eqopt_eq0.append(alpha0)\n",
    "        eqopt_eq1.append(alpha1)\n",
    "    eqopt_all0.append(eqopt_eq0)\n",
    "    eqopt_all1.append(eqopt_eq1)\n",
    "    plt.plot(eqopt_eq0,eqopt_eq1,'o-',label=str(j))\n",
    "    # plt.plot(alpha1_dp_evolution,alpha0_dp_evolution,'o-',label='DP')\n",
    "    # plt.plot(alpha1_eqopt_evolution,alpha0_eqopt_evolution,'o-',label='EqOpt')\n",
    "    plt.ylim(0, 1)\n",
    "    plt.xlim(0, 1)\n",
    "    \n",
    "\n",
    "\n",
    "plt.xlabel('alpha_aa')\n",
    "plt.ylabel('alpha_c')\n",
    "plt.legend()\n",
    "plt.show()\n",
    "\n",
    "\n"
   ]
  },
  {
   "cell_type": "code",
   "execution_count": null,
   "metadata": {
    "scrolled": true
   },
   "outputs": [],
   "source": [
    "print('The equality measure of UN: ', alpha0_un_evolution[-1]-alpha1_un_evolution[-1])\n",
    "print('The equality measure of DP: ', alpha0_dp_evolution[-1]-alpha1_dp_evolution[-1])\n",
    "print('The equality measure of EqOpt: ', alpha0_eqopt_evolution[-1]-alpha1_eqopt_evolution[-1])\n",
    "\n",
    "print('The overall qualification rate measure of UN: ', alpha0_un_evolution[-1]*P_C+alpha1_un_evolution[-1]*P_AA)\n",
    "print('The overall qualification rate measure of DP: ', alpha0_dp_evolution[-1]*P_C+alpha1_dp_evolution[-1]*P_AA)\n",
    "print('The overall qualification rate measure of EqOpt: ', alpha0_eqopt_evolution[-1]*P_C+alpha1_eqopt_evolution[-1]*P_AA)"
   ]
  },
  {
   "cell_type": "code",
   "execution_count": 76,
   "metadata": {},
   "outputs": [
    {
     "data": {
      "text/html": [
       "<div>\n",
       "<style scoped>\n",
       "    .dataframe tbody tr th:only-of-type {\n",
       "        vertical-align: middle;\n",
       "    }\n",
       "\n",
       "    .dataframe tbody tr th {\n",
       "        vertical-align: top;\n",
       "    }\n",
       "\n",
       "    .dataframe thead th {\n",
       "        text-align: right;\n",
       "    }\n",
       "</style>\n",
       "<table border=\"1\" class=\"dataframe\">\n",
       "  <thead>\n",
       "    <tr style=\"text-align: right;\">\n",
       "      <th></th>\n",
       "      <th>0.1</th>\n",
       "      <th>0.3</th>\n",
       "      <th>0.5</th>\n",
       "      <th>0.7</th>\n",
       "      <th>0.9</th>\n",
       "    </tr>\n",
       "  </thead>\n",
       "  <tbody>\n",
       "    <tr>\n",
       "      <th>0</th>\n",
       "      <td>0.169327</td>\n",
       "      <td>0.179791</td>\n",
       "      <td>0.192746</td>\n",
       "      <td>0.209482</td>\n",
       "      <td>0.232106</td>\n",
       "    </tr>\n",
       "    <tr>\n",
       "      <th>1</th>\n",
       "      <td>0.215623</td>\n",
       "      <td>0.234629</td>\n",
       "      <td>0.259542</td>\n",
       "      <td>0.293566</td>\n",
       "      <td>0.341888</td>\n",
       "    </tr>\n",
       "    <tr>\n",
       "      <th>2</th>\n",
       "      <td>0.283656</td>\n",
       "      <td>0.317178</td>\n",
       "      <td>0.362120</td>\n",
       "      <td>0.424001</td>\n",
       "      <td>0.510876</td>\n",
       "    </tr>\n",
       "    <tr>\n",
       "      <th>3</th>\n",
       "      <td>0.375785</td>\n",
       "      <td>0.427961</td>\n",
       "      <td>0.496355</td>\n",
       "      <td>0.585917</td>\n",
       "      <td>0.699472</td>\n",
       "    </tr>\n",
       "    <tr>\n",
       "      <th>4</th>\n",
       "      <td>0.482820</td>\n",
       "      <td>0.550206</td>\n",
       "      <td>0.632519</td>\n",
       "      <td>0.728101</td>\n",
       "      <td>0.823955</td>\n",
       "    </tr>\n",
       "  </tbody>\n",
       "</table>\n",
       "</div>"
      ],
      "text/plain": [
       "        0.1       0.3       0.5       0.7       0.9\n",
       "0  0.169327  0.179791  0.192746  0.209482  0.232106\n",
       "1  0.215623  0.234629  0.259542  0.293566  0.341888\n",
       "2  0.283656  0.317178  0.362120  0.424001  0.510876\n",
       "3  0.375785  0.427961  0.496355  0.585917  0.699472\n",
       "4  0.482820  0.550206  0.632519  0.728101  0.823955"
      ]
     },
     "execution_count": 76,
     "metadata": {},
     "output_type": "execute_result"
    }
   ],
   "source": [
    "df_un_0 = pd.DataFrame(np.array(un_eq_all0),columns=TList)\n",
    "df_un_0.to_csv('df_un_0.csv', index=False)"
   ]
  },
  {
   "cell_type": "code",
   "execution_count": 77,
   "metadata": {
    "scrolled": true
   },
   "outputs": [
    {
     "data": {
      "text/html": [
       "<div>\n",
       "<style scoped>\n",
       "    .dataframe tbody tr th:only-of-type {\n",
       "        vertical-align: middle;\n",
       "    }\n",
       "\n",
       "    .dataframe tbody tr th {\n",
       "        vertical-align: top;\n",
       "    }\n",
       "\n",
       "    .dataframe thead th {\n",
       "        text-align: right;\n",
       "    }\n",
       "</style>\n",
       "<table border=\"1\" class=\"dataframe\">\n",
       "  <thead>\n",
       "    <tr style=\"text-align: right;\">\n",
       "      <th></th>\n",
       "      <th>0.1</th>\n",
       "      <th>0.3</th>\n",
       "      <th>0.5</th>\n",
       "      <th>0.7</th>\n",
       "      <th>0.9</th>\n",
       "    </tr>\n",
       "  </thead>\n",
       "  <tbody>\n",
       "    <tr>\n",
       "      <th>0</th>\n",
       "      <td>0.218334</td>\n",
       "      <td>0.260015</td>\n",
       "      <td>0.325841</td>\n",
       "      <td>0.425854</td>\n",
       "      <td>0.561210</td>\n",
       "    </tr>\n",
       "    <tr>\n",
       "      <th>1</th>\n",
       "      <td>0.286475</td>\n",
       "      <td>0.346084</td>\n",
       "      <td>0.430480</td>\n",
       "      <td>0.541144</td>\n",
       "      <td>0.666187</td>\n",
       "    </tr>\n",
       "    <tr>\n",
       "      <th>2</th>\n",
       "      <td>0.366730</td>\n",
       "      <td>0.439250</td>\n",
       "      <td>0.531152</td>\n",
       "      <td>0.636331</td>\n",
       "      <td>0.738438</td>\n",
       "    </tr>\n",
       "    <tr>\n",
       "      <th>3</th>\n",
       "      <td>0.450044</td>\n",
       "      <td>0.527557</td>\n",
       "      <td>0.616170</td>\n",
       "      <td>0.706560</td>\n",
       "      <td>0.784947</td>\n",
       "    </tr>\n",
       "    <tr>\n",
       "      <th>4</th>\n",
       "      <td>0.527917</td>\n",
       "      <td>0.603179</td>\n",
       "      <td>0.681911</td>\n",
       "      <td>0.755360</td>\n",
       "      <td>0.814831</td>\n",
       "    </tr>\n",
       "  </tbody>\n",
       "</table>\n",
       "</div>"
      ],
      "text/plain": [
       "        0.1       0.3       0.5       0.7       0.9\n",
       "0  0.218334  0.260015  0.325841  0.425854  0.561210\n",
       "1  0.286475  0.346084  0.430480  0.541144  0.666187\n",
       "2  0.366730  0.439250  0.531152  0.636331  0.738438\n",
       "3  0.450044  0.527557  0.616170  0.706560  0.784947\n",
       "4  0.527917  0.603179  0.681911  0.755360  0.814831"
      ]
     },
     "execution_count": 77,
     "metadata": {},
     "output_type": "execute_result"
    }
   ],
   "source": [
    "df_un_1 = pd.DataFrame(np.array(un_eq_all1),columns=TList)\n",
    "df_un_1.to_csv('df_un_1.csv', index=False)"
   ]
  },
  {
   "cell_type": "code",
   "execution_count": 83,
   "metadata": {},
   "outputs": [],
   "source": [
    "df_eqopt_0 = pd.DataFrame(np.array(eqopt_all0),columns=TList)\n",
    "df_eqopt_1 = pd.DataFrame(np.array(eqopt_all1),columns=TList)\n",
    "df_eqopt_0.to_csv('df_eqopt_0.csv', index=False)\n",
    "df_eqopt_1.to_csv('df_eqopt_1.csv', index=False)\n"
   ]
  },
  {
   "cell_type": "code",
   "execution_count": 14,
   "metadata": {
    "scrolled": true
   },
   "outputs": [],
   "source": [
    "df_dp_0 = pd.DataFrame(np.array(dp_eq_all0),columns=TList)\n",
    "df_dp_1 = pd.DataFrame(np.array(dp_eq_all1),columns=TList)\n",
    "df_dp_0.to_csv('df_dp_0.csv', index=False)\n",
    "df_dp_1.to_csv('df_dp_1.csv', index=False)\n",
    "\n"
   ]
  }
 ],
 "metadata": {
  "kernelspec": {
   "display_name": "Python 3",
   "language": "python",
   "name": "python3"
  },
  "language_info": {
   "codemirror_mode": {
    "name": "ipython",
    "version": 3
   },
   "file_extension": ".py",
   "mimetype": "text/x-python",
   "name": "python",
   "nbconvert_exporter": "python",
   "pygments_lexer": "ipython3",
   "version": "3.7.3"
  }
 },
 "nbformat": 4,
 "nbformat_minor": 2
}
