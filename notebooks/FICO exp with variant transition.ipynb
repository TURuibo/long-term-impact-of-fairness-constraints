{
 "cells": [
  {
   "cell_type": "code",
   "execution_count": 1,
   "metadata": {
    "pycharm": {
     "is_executing": false
    }
   },
   "outputs": [],
   "source": [
    "import pandas as pd\n",
    "import numpy as np\n",
    "import random\n",
    "import matplotlib.pyplot as plt\n",
    "import sys\n",
    "import time\n",
    "sys.path.append('../')\n",
    "\n",
    "from util import *\n",
    "from fico_util import *\n",
    "pd.set_option('display.max_columns', None)\n",
    "pd.set_option('display.max_rows', None)"
   ]
  },
  {
   "cell_type": "code",
   "execution_count": 2,
   "metadata": {},
   "outputs": [
    {
     "name": "stdout",
     "output_type": "stream",
     "text": [
      "[0.2    0.3625 0.525  0.6875 0.85  ] [0.45 0.55 0.65 0.75 0.85]\n",
      "[0.2    0.3625 0.525  0.6875 0.85  ] [0.45 0.55 0.65 0.75 0.85]\n"
     ]
    }
   ],
   "source": [
    "Taa = np.linspace(0.2,0.85,5)\n",
    "Tc = np.linspace(0.45,0.85,5)\n",
    "print(Taa,Tc)"
   ]
  },
  {
   "cell_type": "markdown",
   "metadata": {},
   "source": [
    "## Define a model for the study of long-term impact of fairness contraints in FICO\n",
    "\n",
    "### Initial qualification rates \n",
    "The qualification rates are $\\alpha^0=0.34$ and  $\\alpha^1=0.76$.  \n",
    "The demographic proportions are $P(S=0)=0.12$ and $P(S=1)=0.88$."
   ]
  },
  {
   "cell_type": "code",
   "execution_count": 3,
   "metadata": {},
   "outputs": [],
   "source": [
    "P_C = 0.88\n",
    "P_AA = 0.12\n",
    "\n",
    "alpha_aa_ini=0.34\n",
    "alpha_c_ini=0.76"
   ]
  },
  {
   "cell_type": "code",
   "execution_count": 4,
   "metadata": {},
   "outputs": [],
   "source": [
    "\n",
    "a_aa0= 1.07\n",
    "b_aa0= 6.07\n",
    "a_aa1= 1.62\n",
    "b_aa1= 1.76\n",
    "\n",
    "a_c0=1.02\n",
    "b_c0=3.68\n",
    "a_c1=2.12\n",
    "b_c1=1.16"
   ]
  },
  {
   "cell_type": "markdown",
   "metadata": {},
   "source": [
    "### Transition probability \n",
    "-  $P(Y_{t+1} = 1 \\mid Y_t = y, A_t = a, S=s)$, represented by an array T[ y, a, s]: the probability to be qualified given the current qualification state $Y_t=y$, decision $A_t = a$, and the group $S=s$, i.e.,\n",
    "- The following defined transition is under Condition 1(ii) in the paper.\n"
   ]
  },
  {
   "cell_type": "markdown",
   "metadata": {},
   "source": [
    "### Dynamics\n",
    "$\\alpha^s_{t+1} = g^{0s}_t + (g^{1s}_t-g^{0s}_t) \\alpha^s_t$.  \n",
    "- $g^{0s}_t = T[0,0,s]\\mathbb{E}_{X\\mid 0,s}(\\hat{Y} = 0) + T[0,1,s] \\mathbb{E}_{X\\mid 0,s}(\\hat{Y} = 1)$  \n",
    "- $g^{1s}_t = T[1,0,s] \\mathbb{E}_{X\\mid 1,s}(\\hat{Y} = 0) + T[1,1,s] \\mathbb{E}_{X\\mid 1,s}(\\hat{Y} = 1)$\n",
    "- T[ y, a, s] represents $P(Y_{t+1} = 1 \\mid Y_t = y, A_t = a, S=s)$.  \n",
    "- E[ y, a, s] represents $\\mathbb{E}_{X\\mid y,s}(\\hat{Y} = a)$."
   ]
  },
  {
   "cell_type": "code",
   "execution_count": 5,
   "metadata": {},
   "outputs": [],
   "source": [
    "def update(alpha,tpr,fpr,T, group):\n",
    "    g0 = T[0,0,group]*(1-fpr[group]) + T[0,1,group]*fpr[group]\n",
    "    g1 = T[1,0,group]*(1-tpr[group]) + T[1,1,group]*tpr[group]\n",
    "    return alpha*g1 + (1-alpha)*g0"
   ]
  },
  {
   "cell_type": "code",
   "execution_count": 6,
   "metadata": {},
   "outputs": [],
   "source": [
    "def balance_diff(alpha,tpr,fpr,T, group):\n",
    "    g0 = T[0,0,group]*(1-fpr[group]) + T[0,1,group]*fpr[group]\n",
    "    g1 = T[1,0,group]*(1-tpr[group]) + T[1,1,group]*tpr[group]    \n",
    "    return g0 + (g1-g0-1)*alpha "
   ]
  },
  {
   "cell_type": "markdown",
   "metadata": {
    "pycharm": {}
   },
   "source": [
    "### The evolution trajectory of qualification rates   \n",
    "\n",
    "In this study, we consider the demographic invariant generation case. The generation distribution is not changed over time, but the ratio of different subgroups is changed, i.e., the qualification rate. Therefore, we can use resampling to get the dataset at each time step.\n",
    "\n",
    "*The algorithm:*\n",
    "1. Compute the ratio for each subgroup;  \n",
    "2. Sample from the original dataset according to the subgroup-wised ratio;  \n",
    "3. Apply a classifier to estimating the decision boundary;\n",
    "4. Apply the dynamics to compute the ratio in next time step.\n",
    " "
   ]
  },
  {
   "cell_type": "code",
   "execution_count": 7,
   "metadata": {},
   "outputs": [],
   "source": [
    "def update_qualification_rates(alpha_aa, alpha_c, T, policy,\n",
    "                               fn=None, Pf_aa=None, Pf_c=None,\n",
    "                               paa=P_AA, pc=P_C,\n",
    "                               a_aa0=a_aa0, b_aa0=b_aa0,a_aa1=a_aa1, b_aa1=b_aa1,\n",
    "                               a_c0=a_c0, b_c0=b_c0, a_c1=a_c1, b_c1=b_c1):\n",
    "    \n",
    "    tpr,fpr = eva_classifier_fn(alpha_aa,alpha_c, policy,fn, Pf_aa, Pf_c,\n",
    "                             paa, pc,\n",
    "                             a_aa0=a_aa0, b_aa0=b_aa0,a_aa1=a_aa1, b_aa1=b_aa1,\n",
    "                             a_c0=a_c0, b_c0=b_c0, a_c1=a_c1, b_c1=b_c1)  \n",
    "    \n",
    "    alpha_aa_next = update(alpha_aa,tpr,fpr,T,group = 0)\n",
    "    alpha_c_next = update(alpha_c,tpr,fpr,T,group = 1)\n",
    "    return alpha_aa_next,alpha_c_next"
   ]
  },
  {
   "cell_type": "code",
   "execution_count": 8,
   "metadata": {},
   "outputs": [],
   "source": [
    "def compute_balance_diff(alpha_aa, alpha_c, T, policy,\n",
    "                         fn=None, Pf_aa=None, Pf_c=None,\n",
    "                         paa=P_AA, pc=P_C,\n",
    "                         a_aa0=a_aa0,b_aa0=b_aa0,a_aa1=a_aa1,b_aa1=b_aa1,\n",
    "                         a_c0=a_c0,b_c0=b_c0,a_c1=a_c1,b_c1=b_c1):\n",
    "    \n",
    "    tpr,fpr = eva_classifier_fn(alpha_aa,alpha_c,policy,fn, Pf_aa, Pf_c,\n",
    "                             paa,pc,\n",
    "                             a_aa0,b_aa0,a_aa1,b_aa1,\n",
    "                             a_c0,b_c0,a_c1,b_c1)    \n",
    "    group0 = balance_diff(alpha_aa,tpr,fpr,T,group=0)\n",
    "    group1 = balance_diff(alpha_c,tpr,fpr,T,group=1)\n",
    "    return group0, group1"
   ]
  },
  {
   "cell_type": "markdown",
   "metadata": {
    "pycharm": {}
   },
   "source": [
    "### Evolution behavior in the UN case\n",
    "**Evolution behavior.** Starting from different qualification rates, we can see the evolution behavior. The figure indicates that in the UN case, qualification rates converge to an unique equiibria."
   ]
  },
  {
   "cell_type": "code",
   "execution_count": 9,
   "metadata": {
    "pycharm": {},
    "scrolled": false
   },
   "outputs": [
    {
     "name": "stdout",
     "output_type": "stream",
     "text": [
      "4"
     ]
    },
    {
     "data": {
      "image/png": "[encoded data removed]",
      "text/plain": [
       "<Figure size 432x288 with 1 Axes>"
      ]
     },
     "metadata": {
      "needs_background": "light"
     },
     "output_type": "display_data"
    },
    {
     "data": {
      "image/png": "[encoded data removed]",
      "text/plain": [
       "<Figure size 432x288 with 1 Axes>"
      ]
     },
     "metadata": {
      "needs_background": "light"
     },
     "output_type": "display_data"
    }
   ],
   "source": [
    "# Define the transition matrix under Condition 1(ii)\n",
    "# The order of index in T: \n",
    "# [\"qualification state\", \"decision\", \"group\"]\n",
    "MAX_ITERATION_EQUILIBRIUM = 10\n",
    "\n",
    "\n",
    "T = np.zeros((2, 2, 2))\n",
    "plt.figure()\n",
    "plt.axis('square')\n",
    "TList = np.linspace(0.1,0.9,5)\n",
    "\n",
    "\n",
    "un_eq_all0 = []\n",
    "un_eq_all1 = []\n",
    "\n",
    "Taa = np.linspace(0.2,0.85,5)\n",
    "Tc = np.linspace(0.45,0.85,5)\n",
    "\n",
    "for j in range(5):\n",
    "    sys.stdout.write(\"\\r{0}\".format(str(j)))\n",
    "    un_eq0 = []\n",
    "    un_eq1 = []\n",
    "    for i in range(5):\n",
    "        T[0,0,0] = 0.1 # \"AA\"\n",
    "        T[0,1,0] = Taa[i]\n",
    "        T[1,0,0] = Taa[j]\n",
    "        T[1,1,0] = 0.9\n",
    "\n",
    "        T[0,0,1] = 0.4\n",
    "        T[0,1,1] = Tc[i]\n",
    "        T[1,0,1] = Tc[j]\n",
    "        T[1,1,1] = 0.9\n",
    "        np.random.seed(777)\n",
    "\n",
    "        # The UN case\n",
    "        alpha0, alpha1 =  alpha_aa_ini,alpha_c_ini\n",
    "        alpha0_un_evolution=[alpha0]\n",
    "        alpha1_un_evolution=[alpha1]\n",
    "        for _ in range(MAX_ITERATION_EQUILIBRIUM):\n",
    "            alpha0, alpha1 = update_qualification_rates(alpha0, alpha1, T, 'UN',\n",
    "                                       fn=None, Pf_aa=None, Pf_c=None,\n",
    "                                       paa=P_AA, pc=P_C,\n",
    "                                       a_aa0=a_aa0, b_aa0=b_aa0,a_aa1=a_aa1, b_aa1=b_aa1,\n",
    "                                       a_c0=a_c0, b_c0=b_c0, a_c1=a_c1, b_c1=b_c1)\n",
    "            alpha0_un_evolution.append(alpha0)\n",
    "            alpha1_un_evolution.append(alpha1)\n",
    "        \n",
    "        un_eq0.append(alpha0)\n",
    "        un_eq1.append(alpha1)\n",
    "    un_eq_all0.append(un_eq0)\n",
    "    un_eq_all1.append(un_eq1)\n",
    "    plt.plot(un_eq0,un_eq1,'o-',label=str(j))\n",
    "    plt.ylim(0, 1)\n",
    "    plt.xlim(0, 1)\n",
    "    \n",
    "plt.xlabel('alpha_c')\n",
    "plt.ylabel('alpha_aa')\n",
    "plt.legend()\n",
    "plt.show()\n"
   ]
  },
  {
   "cell_type": "code",
   "execution_count": 11,
   "metadata": {
    "scrolled": false
   },
   "outputs": [
    {
     "name": "stdout",
     "output_type": "stream",
     "text": [
      "4"
     ]
    },
    {
     "data": {
      "image/png": "[encoded data removed]",
      "text/plain": [
       "<Figure size 432x288 with 1 Axes>"
      ]
     },
     "metadata": {
      "needs_background": "light"
     },
     "output_type": "display_data"
    },
    {
     "data": {
      "image/png": "[encoded data removed]",
      "text/plain": [
       "<Figure size 432x288 with 1 Axes>"
      ]
     },
     "metadata": {
      "needs_background": "light"
     },
     "output_type": "display_data"
    }
   ],
   "source": [
    "# Define the transition matrix under Condition 1(ii)\n",
    "# The order of index in T: \n",
    "# [\"qualification state\", \"decision\", \"group\"]\n",
    "MAX_ITERATION_EQUILIBRIUM = 10\n",
    "\n",
    "\n",
    "T = np.zeros((2, 2, 2))\n",
    "plt.figure()\n",
    "plt.axis('square')\n",
    "TList = np.linspace(0.1,0.9,5)\n",
    "\n",
    "\n",
    "dp_eq_all0 = []\n",
    "dp_eq_all1 = []\n",
    "\n",
    "Taa = np.linspace(0.2,0.85,5)\n",
    "Tc = np.linspace(0.45,0.85,5)\n",
    "\n",
    "for j in range(5):\n",
    "    sys.stdout.write(\"\\r{0}\".format(str(j)))\n",
    "    dp_eq0 = []\n",
    "    dp_eq1 = []\n",
    "\n",
    "    for i in range(5):\n",
    "        T[0,0,0] = 0.1 # \"AA\"\n",
    "        T[0,1,0] = Taa[i]\n",
    "        T[1,0,0] = Taa[j]\n",
    "        T[1,1,0] = 0.9\n",
    "\n",
    "        T[0,0,1] = 0.4\n",
    "        T[0,1,1] = Tc[i]\n",
    "        T[1,0,1] = Tc[j]\n",
    "        T[1,1,1] = 0.9\n",
    "        np.random.seed(777)\n",
    "\n",
    "            \n",
    "        alpha0, alpha1 =  alpha_aa_ini,alpha_c_ini\n",
    "        alpha0_dp_evolution=[alpha0]\n",
    "        alpha1_dp_evolution=[alpha1]\n",
    "        for _ in range(MAX_ITERATION_EQUILIBRIUM):\n",
    "            alpha0, alpha1 = update_qualification_rates(alpha0, alpha1, T, 'DP',f_dp, Pdp_aa, Pdp_c,\n",
    "                                                        paa=P_AA, pc=P_C,\n",
    "                                                        a_aa0=a_aa0, b_aa0=b_aa0,a_aa1=a_aa1, b_aa1=b_aa1,\n",
    "                                                        a_c0=a_c0, b_c0=b_c0, a_c1=a_c1, b_c1=b_c1\n",
    "                                                       )\n",
    "            alpha0_dp_evolution.append(alpha0)\n",
    "            alpha1_dp_evolution.append(alpha1)  \n",
    "        \n",
    "        dp_eq0.append(alpha0)\n",
    "        dp_eq1.append(alpha1)\n",
    "    dp_eq_all0.append(dp_eq0)\n",
    "    dp_eq_all1.append(dp_eq1)\n",
    "    plt.plot(dp_eq0,dp_eq1,'o-',label=str(j))\n",
    "    plt.ylim(0, 1)\n",
    "    plt.xlim(0, 1)\n",
    "    \n",
    "plt.xlabel('alpha_aa')\n",
    "plt.ylabel('alpha_c')\n",
    "plt.legend()\n",
    "plt.show()\n",
    "\n"
   ]
  },
  {
   "cell_type": "code",
   "execution_count": 12,
   "metadata": {},
   "outputs": [
    {
     "name": "stdout",
     "output_type": "stream",
     "text": [
      "4"
     ]
    },
    {
     "data": {
      "image/png": "[encoded data removed]",
      "text/plain": [
       "<Figure size 432x288 with 1 Axes>"
      ]
     },
     "metadata": {
      "needs_background": "light"
     },
     "output_type": "display_data"
    },
    {
     "data": {
      "image/png": "[encoded data removed]",
      "text/plain": [
       "<Figure size 432x288 with 1 Axes>"
      ]
     },
     "metadata": {
      "needs_background": "light"
     },
     "output_type": "display_data"
    }
   ],
   "source": [
    "# Define the transition matrix under Condition 1(ii)\n",
    "# The order of index in T: \n",
    "# [\"qualification state\", \"decision\", \"group\"]\n",
    "MAX_ITERATION_EQUILIBRIUM = 5\n",
    "\n",
    "\n",
    "T = np.zeros((2, 2, 2))\n",
    "plt.figure()\n",
    "plt.axis('square')\n",
    "Taa = np.linspace(0.2,0.85,5)\n",
    "Tc = np.linspace(0.45,0.85,5)\n",
    "eqopt_all0 = []\n",
    "eqopt_all1 = []\n",
    "\n",
    "for j in range(5):\n",
    "    sys.stdout.write(\"\\r{0}\".format(str(j)))\n",
    "    eqopt_eq0 = []\n",
    "    eqopt_eq1 = []\n",
    "    for i in range(5):\n",
    "        T[0,0,0] = 0.1 # \"AA\"\n",
    "        T[0,1,0] = Taa[i]\n",
    "        T[1,0,0] = Taa[j]\n",
    "        T[1,1,0] = 0.9\n",
    "\n",
    "        T[0,0,1] = 0.4\n",
    "        T[0,1,1] = Tc[i]\n",
    "        T[1,0,1] = Tc[j]\n",
    "        T[1,1,1] = 0.9\n",
    "        np.random.seed(777)\n",
    "\n",
    "        # The EqOpt case\n",
    "        alpha0, alpha1 =  alpha_aa_ini,alpha_c_ini\n",
    "        alpha0_eqopt_evolution=[alpha0]\n",
    "        alpha1_eqopt_evolution=[alpha1]\n",
    "        for _ in range(MAX_ITERATION_EQUILIBRIUM):\n",
    "            alpha0, alpha1 = update_qualification_rates(alpha0, alpha1, T, 'EqOpt',f_eqopt, Peqopt_aa, Peqopt_c,\n",
    "                                                        paa=P_AA, pc=P_C,\n",
    "                                                        a_aa0=a_aa0, b_aa0=b_aa0,a_aa1=a_aa1, b_aa1=b_aa1,\n",
    "                                                        a_c0=a_c0, b_c0=b_c0, a_c1=a_c1, b_c1=b_c1\n",
    "                                                       )\n",
    "        alpha0_eqopt_evolution.append(alpha0)\n",
    "        alpha1_eqopt_evolution.append(alpha1)  \n",
    "\n",
    "        eqopt_eq0.append(alpha0)\n",
    "        eqopt_eq1.append(alpha1)\n",
    "    eqopt_all0.append(eqopt_eq0)\n",
    "    eqopt_all1.append(eqopt_eq1)\n",
    "    plt.plot(eqopt_eq0,eqopt_eq1,'o-',label=str(j))\n",
    "    \n",
    "    plt.ylim(0, 1)\n",
    "    plt.xlim(0, 1)\n",
    "    \n",
    "plt.xlabel('alpha_aa')\n",
    "plt.ylabel('alpha_c')\n",
    "plt.legend()\n",
    "plt.show()\n",
    "\n",
    "\n"
   ]
  },
  {
   "cell_type": "code",
   "execution_count": 18,
   "metadata": {},
   "outputs": [],
   "source": [
    "df_un_0 = pd.DataFrame(np.array(un_eq_all0),columns=TList)\n",
    "df_un_1 = pd.DataFrame(np.array(un_eq_all1),columns=TList)\n",
    "df_un_0.to_csv('df_un_0.csv', index=False)\n",
    "df_un_1.to_csv('df_un_1.csv', index=False)"
   ]
  },
  {
   "cell_type": "code",
   "execution_count": 19,
   "metadata": {},
   "outputs": [],
   "source": [
    "df_eqopt_0 = pd.DataFrame(np.array(eqopt_all0),columns=TList)\n",
    "df_eqopt_1 = pd.DataFrame(np.array(eqopt_all1),columns=TList)\n",
    "df_eqopt_0.to_csv('df_eqopt_0.csv', index=False)\n",
    "df_eqopt_1.to_csv('df_eqopt_1.csv', index=False)\n"
   ]
  },
  {
   "cell_type": "code",
   "execution_count": 20,
   "metadata": {
    "scrolled": true
   },
   "outputs": [],
   "source": [
    "df_dp_0 = pd.DataFrame(np.array(dp_eq_all0),columns=TList)\n",
    "df_dp_1 = pd.DataFrame(np.array(dp_eq_all1),columns=TList)\n",
    "df_dp_0.to_csv('df_dp_0.csv', index=False)\n",
    "df_dp_1.to_csv('df_dp_1.csv', index=False)\n",
    "\n"
   ]
  }
 ],
 "metadata": {
  "kernelspec": {
   "display_name": "Python 3",
   "language": "python",
   "name": "python3"
  },
  "language_info": {
   "codemirror_mode": {
    "name": "ipython",
    "version": 3
   },
   "file_extension": ".py",
   "mimetype": "text/x-python",
   "name": "python",
   "nbconvert_exporter": "python",
   "pygments_lexer": "ipython3",
   "version": "3.7.3"
  }
 },
 "nbformat": 4,
 "nbformat_minor": 2
}
