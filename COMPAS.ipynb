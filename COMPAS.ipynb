{
 "cells": [
  {
   "cell_type": "code",
   "execution_count": 18,
   "metadata": {
    "scrolled": false
   },
   "outputs": [
    {
     "data": {
      "text/plain": [
       "(age                        25.000000\n",
       " juv_fel_count               0.000000\n",
       " juv_misd_count             -2.340451\n",
       " juv_other_count             1.000000\n",
       " priors_count              -15.010999\n",
       " age_cat_25 - 45             1.000000\n",
       " age_cat_Greater than 45     0.000000\n",
       " age_cat_Less than 25        0.000000\n",
       " c_charge_degree_F           0.000000\n",
       " c_charge_degree_M           1.000000\n",
       " Name: 0, dtype: float64, 1.0)"
      ]
     },
     "execution_count": 18,
     "metadata": {},
     "output_type": "execute_result"
    }
   ],
   "source": [
    "import pandas as pd\n",
    "import numpy as np\n",
    "from tempeh.configurations import datasets\n",
    "\n",
    "compas_dataset = datasets['compas']()\n",
    "X_train, X_test = compas_dataset.get_X(format=pd.DataFrame)\n",
    "y_train, y_test = compas_dataset.get_y(format=pd.Series)\n",
    "sensitive_features_train, sensitive_features_test = compas_dataset.get_sensitive_features('race', format=pd.Series)\n",
    "X_train.loc[0], y_train[0]"
   ]
  },
  {
   "cell_type": "code",
   "execution_count": 19,
   "metadata": {},
   "outputs": [],
   "source": [
    "# This wrapper around the estimator serves the purpose of mapping the predict\n",
    "# method to predict_proba so that we can use real values to get more accurate estimates.\n",
    "from sklearn import clone\n",
    "from sklearn.base import BaseEstimator, ClassifierMixin\n",
    "from sklearn.utils.validation import check_is_fitted\n",
    "from sklearn.exceptions import NotFittedError\n",
    "\n",
    "class LogisticRegressionAsRegression(BaseEstimator, ClassifierMixin):\n",
    "    def __init__(self, logistic_regression_estimator):\n",
    "        self.logistic_regression_estimator = logistic_regression_estimator\n",
    "    \n",
    "    def fit(self, X, y):\n",
    "        try:\n",
    "            check_is_fitted(self.logistic_regression_estimator)\n",
    "            self.logistic_regression_estimator_ = self.logistic_regression_estimator\n",
    "        except NotFittedError:\n",
    "            self.logistic_regression_estimator_ = clone(\n",
    "                self.logistic_regression_estimator).fit(X, y)\n",
    "        return self\n",
    "    \n",
    "    def predict(self, X):\n",
    "        # use predict_proba to get real values instead of 0/1, select only prob for 1\n",
    "        scores = self.logistic_regression_estimator_.predict_proba(X)[:,1]\n",
    "        return scores"
   ]
  },
  {
   "cell_type": "code",
   "execution_count": 36,
   "metadata": {
    "scrolled": true
   },
   "outputs": [],
   "source": [
    "from sklearn.linear_model import LogisticRegression\n",
    "from fairlearn.postprocessing import ThresholdOptimizer\n",
    "from copy import deepcopy\n",
    "s = sensitive_features_train\n",
    "s[sensitive_features_train == \"African-American\"]=0\n",
    "s[sensitive_features_train == \"Caucasian\"]=1\n",
    "\n",
    "\n",
    "group = pd.DataFrame(data=[y_train,s]).T\n",
    "estimator = LogisticRegression(solver='liblinear')\n",
    "estimator_wrapper = LogisticRegressionAsRegression(estimator).fit(X_train, y_train)\n",
    "\n",
    "# Solve thet optimal policy equation by training a classifier\n",
    "# ********Unconstrainted policy********\n",
    "estimator.fit(X_train, y_train)\n",
    "\n",
    "# ********EqOpt********\n",
    "postprocessed_predictor_EO = ThresholdOptimizer(\n",
    "    estimator=estimator_wrapper,\n",
    "    constraints=\"equalized_odds\",\n",
    "    prefit=True)\n",
    "\n",
    "# ********DP********\n",
    "postprocessed_predictor_DP = ThresholdOptimizer(\n",
    "    estimator=estimator_wrapper,\n",
    "    constraints=\"demographic_parity\",\n",
    "    prefit=True)\n",
    "\n",
    "\n",
    "predictions_train = estimator.predict(X_train)\n",
    "\n",
    "postprocessed_predictor_EO.fit(X_train, y_train, sensitive_features=sensitive_features_train)\n",
    "fairness_aware_predictions_EO_train = postprocessed_predictor_EO.predict(X_train, sensitive_features=sensitive_features_train)\n",
    "\n",
    "postprocessed_predictor_DP.fit(X_train, y_train, sensitive_features=sensitive_features_train)\n",
    "fairness_aware_predictions_DP_train = postprocessed_predictor_EO.predict(X_train, sensitive_features=sensitive_features_train)\n",
    "\n"
   ]
  }
 ],
 "metadata": {
  "kernelspec": {
   "display_name": "Python 3",
   "language": "python",
   "name": "python3"
  },
  "language_info": {
   "codemirror_mode": {
    "name": "ipython",
    "version": 3
   },
   "file_extension": ".py",
   "mimetype": "text/x-python",
   "name": "python",
   "nbconvert_exporter": "python",
   "pygments_lexer": "ipython3",
   "version": "3.7.3"
  }
 },
 "nbformat": 4,
 "nbformat_minor": 2
}
