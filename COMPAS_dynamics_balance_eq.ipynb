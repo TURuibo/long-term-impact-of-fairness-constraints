{
 "cells": [
  {
   "cell_type": "code",
   "execution_count": 18,
   "metadata": {
    "pycharm": {
     "is_executing": false
    }
   },
   "outputs": [],
   "source": [
    "import pandas as pd\n",
    "import numpy as np\n",
    "import random\n",
    "import matplotlib.pyplot as plt\n",
    "\n",
    "import sys\n",
    "import time\n",
    "import progressbar\n",
    "bar = progressbar.ProgressBar(maxval=20, \\\n",
    "    widgets=[progressbar.Bar('=', '[', ']'), ' ', progressbar.Percentage()])\n",
    "from util import *"
   ]
  },
  {
   "cell_type": "markdown",
   "metadata": {
    "pycharm": {}
   },
   "source": [
    "## Load the COMPAS dataset"
   ]
  },
  {
   "cell_type": "code",
   "execution_count": 2,
   "metadata": {
    "pycharm": {
     "is_executing": false
    }
   },
   "outputs": [],
   "source": [
    "# Load COMPAS data\n",
    "X,y,sensitive_features = load_compas_X_y_s(datasets)\n",
    "\n",
    "# Split dataset into 4 sub-groups and retrieve the indices\n",
    "subgroups_indices = get_lable_group_index(X, y, sensitive_features)"
   ]
  },
  {
   "cell_type": "markdown",
   "metadata": {
    "pycharm": {}
   },
   "source": [
    "## Define a model for the study of long-term impact of fairness contraints in COMPAS\n",
    "\n",
    "### Initial qualification rates\n",
    "We randomly sample beginning points from 0 to 1. As shown in the following figure. "
   ]
  },
  {
   "cell_type": "code",
   "execution_count": 3,
   "metadata": {
    "pycharm": {
     "is_executing": false
    },
    "scrolled": true
   },
   "outputs": [
    {
     "data": {
      "image/png": "[encoded data removed]",
      "text/plain": [
       "<Figure size 432x288 with 1 Axes>"
      ]
     },
     "metadata": {
      "needs_background": "light"
     },
     "output_type": "display_data"
    }
   ],
   "source": [
    "# Define the start point of qualification rates\n",
    "np.random.seed(777)\n",
    "\n",
    "NUM_SAMPLES = 8\n",
    "P0 = 0.8\n",
    "alpha0List = np.random.uniform(0.05,0.95,NUM_SAMPLES)\n",
    "alpha1List = np.random.uniform(0.05,0.95,NUM_SAMPLES)\n",
    "\n",
    "\n",
    "plt.ylim(0, 1)\n",
    "plt.xlim(0, 1)\n",
    "plt.plot(alpha0List,alpha1List,'*',label='Initial points')\n",
    "\n",
    "plt.xlabel('alpha0')\n",
    "plt.ylabel('alpha1')\n",
    "plt.axis('square')\n",
    "plt.title(\" Intial qualificaiton states\")\n",
    "plt.show()"
   ]
  },
  {
   "cell_type": "markdown",
   "metadata": {},
   "source": [
    "### Transition probability \n",
    "-  $P(Y_{t+1} = 1 \\mid Y_t = y, A_t = a, S=s)$, represented by an array T[ y, a, s]: the probability to be qualified given the current qualification state $Y_t=y$, decision $A_t = a$, and the group $S=s$, i.e.,\n",
    "- The following defined transition is under Condition 1(ii) in the paper.\n"
   ]
  },
  {
   "cell_type": "code",
   "execution_count": 5,
   "metadata": {
    "pycharm": {}
   },
   "outputs": [],
   "source": [
    "# Define the transition matrix under Condition 1(ii)\n",
    "# The order of index in T: \n",
    "# [\"qualification state\", \"decision\", \"group\"]\n",
    "T = np.zeros((2, 2, 2))\n",
    "T[0,0,0] = 0.5\n",
    "T[0,1,0] = 0.6\n",
    "T[1,0,0] = 0.6\n",
    "T[1,1,0] = 0.9\n",
    "\n",
    "T[0,0,1] = 0.2 # \"Caucasian\"\n",
    "T[0,1,1] = 0.4\n",
    "T[1,0,1] = 0.4\n",
    "T[1,1,1] = 0.6\n"
   ]
  },
  {
   "cell_type": "markdown",
   "metadata": {},
   "source": [
    "### Dynamics\n",
    "$\\alpha^s_{t+1} = g^{0s}_t + (g^{1s}_t-g^{0s}_t) \\alpha^s_t$.  \n",
    "- $g^{0s}_t = T[0,0,s]\\mathbb{E}_{X\\mid 0,s}(\\hat{Y} = 0) + T[0,1,s] \\mathbb{E}_{X\\mid 0,s}(\\hat{Y} = 1)$  \n",
    "- $g^{1s}_t = T[1,0,s] \\mathbb{E}_{X\\mid 1,s}(\\hat{Y} = 0) + T[1,1,s] \\mathbb{E}_{X\\mid 1,s}(\\hat{Y} = 1)$\n",
    "- T[ y, a, s] represents $P(Y_{t+1} = 1 \\mid Y_t = y, A_t = a, S=s)$.  \n",
    "- E[ y, a, s] represents $\\mathbb{E}_{X\\mid y,s}(\\hat{Y} = a)$."
   ]
  },
  {
   "cell_type": "code",
   "execution_count": 6,
   "metadata": {},
   "outputs": [],
   "source": [
    "def update(alpha,tpr,fpr,T, group):\n",
    "    if group == 0:\n",
    "        gp = \"African-American\"\n",
    "    else:\n",
    "        gp = \"Caucasian\"\n",
    "    g0 = T[0,0,group]*(1-fpr[gp]) + T[0,1,group]*fpr[gp]\n",
    "    g1 = T[1,0,group]*(1-tpr[gp]) + T[1,1,group]*tpr[gp]\n",
    "    return alpha*g1 + (1-alpha)*g0"
   ]
  },
  {
   "cell_type": "markdown",
   "metadata": {},
   "source": [
    "### Balanced equation"
   ]
  },
  {
   "cell_type": "code",
   "execution_count": 21,
   "metadata": {},
   "outputs": [],
   "source": [
    "def balance_diff(alpha,tpr,fpr,T, group):\n",
    "    if group == 0:\n",
    "        gp = \"African-American\"\n",
    "    else:\n",
    "        gp = \"Caucasian\"\n",
    "    g0 = T[0,0,group]*(1-fpr[gp]) + T[0,1,group]*fpr[gp]\n",
    "    g1 = T[1,0,group]*(1-tpr[gp]) + T[1,1,group]*tpr[gp]\n",
    "    return g0 + (g1-g0-1)*alpha "
   ]
  },
  {
   "cell_type": "markdown",
   "metadata": {
    "pycharm": {}
   },
   "source": [
    "## The evolution trajectory of qualification states   \n",
    "\n",
    "In this study, we consider the demographic invariant generation case. The generation distribution is not changed over time, but the ratio of different subgroups is changed, i.e., the qualification rate. Therefore, we can use resampling to get the dataset at each time step.\n",
    "\n",
    "*The algorithm:*\n",
    "1. Compute the ratio for each subgroup;  \n",
    "2. Sample from the original dataset according to the subgroup-wised ratio;  \n",
    "3. Apply a classifier to estimating the decision boundary;\n",
    "4. Apply the dynamics to compute the ratio in next time step.\n",
    " "
   ]
  },
  {
   "cell_type": "code",
   "execution_count": 11,
   "metadata": {},
   "outputs": [],
   "source": [
    "def update_qualification_rates(alpha0, alpha1, ps, T, eva_classifier_fn,\n",
    "                               X, y, sensitive_features, subgroups_indices):\n",
    "    # Step 1: Compute ratios\n",
    "    ratio = P0*(1-alpha0),(1-P0)*(1-alpha1),P0*alpha0,(1-P0)*alpha1  \n",
    "\n",
    "    #  Step 2: sample individuals from 4 sub-groups\n",
    "    X_train,y_train,sensitive_features_train = data_resampling(X,y,sensitive_features,subgroups_indices,ratio)\n",
    "\n",
    "    #  Step 3: train (fair) classifiers, and estimate the quantity for dynamics\n",
    "    pr,acc,tpr,fpr = eva_classifier_fn(X_train,y_train,sensitive_features_train)\n",
    "\n",
    "    # Step 4: Update qualification rates\n",
    "    alpha0_next = update(alpha0,tpr,fpr,T,group=0)\n",
    "    alpha1_next = update(alpha1,tpr,fpr,T,group=1)\n",
    "    return alpha0_next,alpha1_next"
   ]
  },
  {
   "cell_type": "code",
   "execution_count": 12,
   "metadata": {},
   "outputs": [],
   "source": [
    "def compute_balance_diff(alpha0,alpha1,ps,T,eva_classifier_fn,\n",
    "                         X,y,sensitive_features,subgroups_indices):\n",
    "    # Step 1: Compute ratios\n",
    "    ratio = P0*(1-alpha0),(1-P0)*(1-alpha1),P0*alpha0,(1-P0)*alpha1  \n",
    "\n",
    "    # Step 2: sample individuals from 4 sub-groups\n",
    "    X_train,y_train,sensitive_features_train = data_resampling(X,y,sensitive_features,subgroups_indices,ratio)\n",
    "\n",
    "    # Step 3: train (fair) classifiers, and estimate the quantity for dynamics\n",
    "    pr,acc,tpr,fpr = eva_classifier_fn(X_train,y_train,sensitive_features_train)\n",
    "    \n",
    "    # Step 4: Compute the balanced difference for balanced functiona/curves\n",
    "    group0_UN = balance_diff(alpha0,tpr,fpr,T,group=0)\n",
    "    group1_UN = balance_diff(alpha1,tpr,fpr,T,group=1)\n",
    "    return group0_UN, group1_UN"
   ]
  },
  {
   "cell_type": "markdown",
   "metadata": {
    "pycharm": {}
   },
   "source": [
    "### Evolution behavior in the UN case\n",
    "**Evolution behavior.** From one sample result, we can see the evolution behavior. The figure indicates that in the UN case, qualification rates converge to an unique equiibria."
   ]
  },
  {
   "cell_type": "code",
   "execution_count": 45,
   "metadata": {},
   "outputs": [
    {
     "name": "stdout",
     "output_type": "stream",
     "text": [
      "49"
     ]
    }
   ],
   "source": [
    "TOTAL_STEP = 50\n",
    "alphaList = np.linspace(0.05,0.95,TOTAL_STEP)\n",
    "\n",
    "group0_UN = np.zeros([len(alphaList),len(alphaList)])\n",
    "group1_UN = np.zeros([len(alphaList),len(alphaList)])\n",
    "\n",
    "for i, alpha0 in enumerate(alphaList):\n",
    "    sys.stdout.write(\"\\r{0}\".format(str(i)))\n",
    "    for j, alpha1 in enumerate(alphaList):\n",
    "        group0_UN[i,j],group1_UN[i,j] = compute_balance_diff(alpha0,alpha1,P0,T,eva_classifier,\n",
    "                                                             X,y,sensitive_features,subgroups_indices)\n"
   ]
  },
  {
   "cell_type": "code",
   "execution_count": 55,
   "metadata": {},
   "outputs": [
    {
     "data": {
      "image/png": "[encoded data removed]",
      "text/plain": [
       "<Figure size 432x288 with 4 Axes>"
      ]
     },
     "metadata": {
      "needs_background": "light"
     },
     "output_type": "display_data"
    }
   ],
   "source": [
    "vmin=np.min([group0_UN,group1_UN])\n",
    "vmax=z_max=np.max([group0_UN,group1_UN])\n",
    "\n",
    "fig, (ax0, ax1) = plt.subplots(ncols=2)\n",
    "im0 = ax0.pcolormesh(group0_UN, cmap='gist_rainbow',vmin=vmin,vmax=vmax)\n",
    "fig.colorbar(im0, ax=ax0)\n",
    "im1= ax1.pcolormesh(group1_UN, cmap='gist_rainbow',vmin=vmin,vmax=vmax)\n",
    "fig.colorbar(im1, ax=ax1)\n",
    "plt.show()"
   ]
  },
  {
   "cell_type": "code",
   "execution_count": 54,
   "metadata": {
    "pycharm": {}
   },
   "outputs": [
    {
     "data": {
      "image/png": "[encoded data removed]",
      "text/plain": [
       "<Figure size 432x288 with 2 Axes>"
      ]
     },
     "metadata": {
      "needs_background": "light"
     },
     "output_type": "display_data"
    }
   ],
   "source": [
    "np.random.seed(777)\n",
    "MAX_ITERATION_EQUILIBRIUM = 10\n",
    "plt.figure()\n",
    "for k in range(2):\n",
    "    alpha0, alpha1 =  alpha0List[k],alpha1List[k]\n",
    "    alpha0_un_evolution=[alpha0]\n",
    "    alpha1_un_evolution=[alpha1]\n",
    "    for _ in range(MAX_ITERATION_EQUILIBRIUM):\n",
    "        alpha0, alpha1 = update_qualification_rates(alpha0, alpha1, P0, T, eva_classifier,\n",
    "                                                    X, y, sensitive_features, subgroups_indices)\n",
    "        alpha0_un_evolution.append(alpha0)\n",
    "        alpha1_un_evolution.append(alpha1)\n",
    "\n",
    "    plt.subplot(1,2,k+1)\n",
    "    plt.axis('square')\n",
    "    plt.plot(alpha0_un_evolution,alpha1_un_evolution,'o-')\n",
    "    plt.ylim(0, 1)\n",
    "    plt.xlim(0, 1)\n",
    "plt.xlabel('alpha0')\n",
    "plt.ylabel('alpha1')\n",
    "plt.title(\"One trajectory of qualification rates.\")\n",
    "plt.show()\n"
   ]
  },
  {
   "cell_type": "code",
   "execution_count": 53,
   "metadata": {},
   "outputs": [
    {
     "data": {
      "text/html": [
       "[0.06836734693877551, 0.5072061148712405, 0.6580844217134928, 0.746337561472997, 0.7981480015014213, 0.821808610241918, 0.8353106331790194, 0.8400802876707075, 0.8415483778257882, 0.8404010179407624, 0.8409361110332205]"
      ],
      "text/plain": [
       "[0.06836734693877551,\n",
       " 0.5072061148712405,\n",
       " 0.6580844217134928,\n",
       " 0.746337561472997,\n",
       " 0.7981480015014213,\n",
       " 0.821808610241918,\n",
       " 0.8353106331790194,\n",
       " 0.8400802876707075,\n",
       " 0.8415483778257882,\n",
       " 0.8404010179407624,\n",
       " 0.8409361110332205]"
      ]
     },
     "execution_count": 53,
     "metadata": {},
     "output_type": "execute_result"
    }
   ],
   "source": [
    "alpha0_un_evolution"
   ]
  },
  {
   "cell_type": "markdown",
   "metadata": {},
   "source": [
    "**Equilibrium.** By study 50 different beginning points, we plot the last 5-interation results. It shows that there is one unique equilibria in the UN case."
   ]
  },
  {
   "cell_type": "code",
   "execution_count": 14,
   "metadata": {
    "pycharm": {},
    "scrolled": true
   },
   "outputs": [
    {
     "name": "stdout",
     "output_type": "stream",
     "text": [
      "7"
     ]
    },
    {
     "data": {
      "image/png": "[encoded data removed]",
      "text/plain": [
       "<Figure size 432x288 with 1 Axes>"
      ]
     },
     "metadata": {
      "needs_background": "light"
     },
     "output_type": "display_data"
    }
   ],
   "source": [
    "np.random.seed(777)\n",
    "MAX_ITERATION_EQUILIBRIUM = 20\n",
    "plt.figure()\n",
    "\n",
    "for k in range(NUM_SAMPLES):\n",
    "    sys.stdout.write(\"\\r{0}\".format(str(k)))\n",
    "    alpha0, alpha1 =  alpha0List[k],alpha1List[k]\n",
    "    alpha0_un_evolution=[alpha0]\n",
    "    alpha1_un_evolution=[alpha1]\n",
    "    for _ in range(MAX_ITERATION_EQUILIBRIUM):\n",
    "        alpha0, alpha1 = update_qualification_rates(alpha0, alpha1, P0, T, eva_classifier,X, y, sensitive_features, subgroups_indices)\n",
    "        alpha0_un_evolution.append(alpha0)\n",
    "        alpha1_un_evolution.append(alpha1)\n",
    "        \n",
    "    plt.axis('square')\n",
    "    plt.xlabel('alpha0')\n",
    "    plt.ylabel('alpha1')\n",
    "    plt.plot(alpha0_un_evolution[-5:],alpha1_un_evolution[-5:],'o',label='No.'+str(k))\n",
    "    plt.ylim(0, 1)\n",
    "    plt.xlim(0, 1)\n",
    "plt.plot(alpha0List,alpha1List,'*')\n",
    "plt.title(\"Switch equilibrium of qualification rate\")\n",
    "plt.show()\n"
   ]
  }
 ],
 "metadata": {
  "kernelspec": {
   "display_name": "Python 3",
   "language": "python",
   "name": "python3"
  },
  "language_info": {
   "codemirror_mode": {
    "name": "ipython",
    "version": 3
   },
   "file_extension": ".py",
   "mimetype": "text/x-python",
   "name": "python",
   "nbconvert_exporter": "python",
   "pygments_lexer": "ipython3",
   "version": "3.7.3"
  }
 },
 "nbformat": 4,
 "nbformat_minor": 2
}
