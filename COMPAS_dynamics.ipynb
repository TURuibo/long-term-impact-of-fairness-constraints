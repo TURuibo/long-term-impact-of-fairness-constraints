{
 "cells": [
  {
   "cell_type": "code",
   "execution_count": 1,
   "metadata": {
    "pycharm": {
     "is_executing": false
    }
   },
   "outputs": [],
   "source": [
    "import pandas as pd\n",
    "import numpy as np\n",
    "import random\n",
    "import matplotlib.pyplot as plt\n",
    "\n",
    "import sys\n",
    "import time\n",
    "\n",
    "from util import *"
   ]
  },
  {
   "cell_type": "markdown",
   "metadata": {
    "pycharm": {}
   },
   "source": [
    "## Load the COMPAS dataset"
   ]
  },
  {
   "cell_type": "code",
   "execution_count": 2,
   "metadata": {
    "pycharm": {
     "is_executing": false
    }
   },
   "outputs": [],
   "source": [
    "# Load COMPAS data\n",
    "X,y,sensitive_features = load_compas_X_y_s(datasets)\n",
    "\n",
    "# Split dataset into 4 sub-groups and retrieve the indices\n",
    "subgroups_indices = get_lable_group_index(X, y, sensitive_features)"
   ]
  },
  {
   "cell_type": "markdown",
   "metadata": {
    "pycharm": {}
   },
   "source": [
    "## Define a model for the study of long-term impact of fairness contraints in COMPAS\n",
    "\n",
    "### Initial qualification rates\n",
    "We randomly sample beginning points from 0 to 1. As shown in the following figure. "
   ]
  },
  {
   "cell_type": "code",
   "execution_count": 3,
   "metadata": {
    "pycharm": {
     "is_executing": false
    },
    "scrolled": true
   },
   "outputs": [
    {
     "data": {
      "image/png": "[encoded data removed]",
      "text/plain": [
       "<Figure size 432x288 with 1 Axes>"
      ]
     },
     "metadata": {
      "needs_background": "light"
     },
     "output_type": "display_data"
    }
   ],
   "source": [
    "# Define the start point of qualification rates\n",
    "np.random.seed(777)\n",
    "\n",
    "NUM_SAMPLES = 50\n",
    "P0 = 0.8\n",
    "alpha0List = np.random.uniform(0.05,0.95,NUM_SAMPLES)\n",
    "alpha1List = np.random.uniform(0.05,0.95,NUM_SAMPLES)\n",
    "\n",
    "\n",
    "plt.ylim(0, 1)\n",
    "plt.xlim(0, 1)\n",
    "plt.plot(alpha0List,alpha1List,'*',label='Initial points')\n",
    "\n",
    "plt.xlabel('alpha0')\n",
    "plt.ylabel('alpha1')\n",
    "plt.axis('square')\n",
    "plt.title(\" Intial qualificaiton states\")\n",
    "plt.show()"
   ]
  },
  {
   "cell_type": "markdown",
   "metadata": {},
   "source": [
    "### Transition probability \n",
    "-  $P(Y_{t+1} = 1 \\mid Y_t = y, A_t = a, S=s)$, represented by an array T[ y, a, s]: the probability to be qualified given the current qualification state $Y_t=y$, decision $A_t = a$, and the group $S=s$, i.e.,\n",
    "- The following defined transition is under Condition 1(ii) in the paper.\n"
   ]
  },
  {
   "cell_type": "code",
   "execution_count": 39,
   "metadata": {
    "pycharm": {}
   },
   "outputs": [],
   "source": [
    "# Define the transition matrix \n",
    "# The order of index in T: \n",
    "# [\"qualification state\", \"decision\", \"group\"]\n",
    "T = np.zeros((2, 2, 2))\n",
    "T[0,0,0] = 0.1\n",
    "T[0,1,0] = 0.5\n",
    "T[1,0,0] = 0.5\n",
    "T[1,1,0] = 0.9\n",
    "\n",
    "T[0,0,1] = 0.4 # \"Caucasian\"\n",
    "T[0,1,1] = 0.2\n",
    "T[1,0,1] = 0.2\n",
    "T[1,1,1] = 0.6\n"
   ]
  },
  {
   "cell_type": "markdown",
   "metadata": {},
   "source": [
    "### Dynamics\n",
    "$\\alpha^s_{t+1} = g^{0s}_t + (g^{1s}_t-g^{0s}_t) \\alpha^s_t$.  \n",
    "- $g^{0s}_t = T[0,0,s]\\mathbb{E}_{X\\mid 0,s}(\\hat{Y} = 0) + T[0,1,s] \\mathbb{E}_{X\\mid 0,s}(\\hat{Y} = 1)$  \n",
    "- $g^{1s}_t = T[1,0,s] \\mathbb{E}_{X\\mid 1,s}(\\hat{Y} = 0) + T[1,1,s] \\mathbb{E}_{X\\mid 1,s}(\\hat{Y} = 1)$\n",
    "- T[ y, a, s] represents $P(Y_{t+1} = 1 \\mid Y_t = y, A_t = a, S=s)$.  \n",
    "- E[ y, a, s] represents $\\mathbb{E}_{X\\mid y,s}(\\hat{Y} = a)$."
   ]
  },
  {
   "cell_type": "code",
   "execution_count": 40,
   "metadata": {},
   "outputs": [],
   "source": [
    "def dynamics(alpha,T,E,group):\n",
    "    g0 = T[0,0,group]*E[0,0,group] + T[0,1,group]*fprE[0,1,group]\n",
    "    g1 = T[1,0,group]*E[1,0,group] + T[1,1,group]*E[1,1,s]\n",
    "    return alpha*g1 + (1-alpha)*g0\n"
   ]
  },
  {
   "cell_type": "code",
   "execution_count": 41,
   "metadata": {},
   "outputs": [],
   "source": [
    "def transition(alpha,tpr,fpr,T, group):\n",
    "    g0 = T[0,0,group]*fpr + T[0,1,group]*(1-fpr)\n",
    "    g1 = T[1,0,group]*(1-tpr) + T[1,1,group]*tpr\n",
    "    return alpha*g1 + (1-alpha)*g0"
   ]
  },
  {
   "cell_type": "markdown",
   "metadata": {
    "pycharm": {}
   },
   "source": [
    "## The evolution trajectory of qualification states   \n",
    "\n",
    "In this study, we consider the demographic invariant generation case. The generation distribution is not changed over time, but the ratio of different subgroups is changed, i.e., the qualification rate. Therefore, we can use resampling to get the dataset at each time step.\n",
    "\n",
    "*The algorithm:*\n",
    "1. Compute the ratio for each subgroup;  \n",
    "2. Sample from the original dataset according to the subgroup-wised ratio;  \n",
    "3. Apply a classifier to estimating the decision boundary;\n",
    "4. Apply the dynamics to compute the ratio in next time step.\n",
    " "
   ]
  },
  {
   "cell_type": "markdown",
   "metadata": {
    "pycharm": {}
   },
   "source": [
    "### Evolution behavior in the UN case\n",
    "**Evolution behavior.** From one sample result, we can see the evolution behavior. The figure indicates that in the UN case, qualification rates converge to an unique equiibria."
   ]
  },
  {
   "cell_type": "code",
   "execution_count": 60,
   "metadata": {
    "pycharm": {}
   },
   "outputs": [
    {
     "data": {
      "image/png": "[encoded data removed]",
      "text/plain": [
       "<Figure size 432x288 with 2 Axes>"
      ]
     },
     "metadata": {
      "needs_background": "light"
     },
     "output_type": "display_data"
    }
   ],
   "source": [
    "np.random.seed(777)\n",
    "MAX_ITERATION_EQUILIBRIUM = 10\n",
    "\n",
    "k=0\n",
    "alpha0, alpha1 =  alpha0List[k],alpha1List[k]\n",
    "alpha0_un_evolution=[alpha0]\n",
    "alpha1_un_evolution=[alpha1]\n",
    "t = 0\n",
    "while t < MAX_ITERATION_EQUILIBRIUM:\n",
    "    t+=1\n",
    "    # Group-wise ratio\n",
    "    ratio = P0*(1-alpha0),(1-P0)*(1-alpha1),P0*alpha0,(1-P0)*alpha1  \n",
    "\n",
    "    # Sampling according to the group-wise ratios\n",
    "    X_train,y_train,sensitive_features_train = dataSelection(X,y,sensitive_features,subgroups_indices,ratio)\n",
    "\n",
    "    # train (fair) classifiers\n",
    "    pr_un,acc_un,tpr_un,fpr_un = eva_classifier(X_train,y_train,sensitive_features_train)\n",
    "\n",
    "    # transitions\n",
    "    alpha0_un_evolution.append(transition(alpha0,\n",
    "                                          tpr_un[\"African-American\"],\n",
    "                                          fpr_un[\"African-American\"],\n",
    "                                          T, group = 0))\n",
    "\n",
    "    alpha1_un_evolution.append(transition(alpha1,\n",
    "                                          tpr_un[\"Caucasian\"],fpr_un[\"Caucasian\"],\n",
    "                                          T, group = 1))\n",
    "\n",
    "    alpha0 = alpha0_un_evolution[-1]\n",
    "    alpha1 = alpha1_un_evolution[-1]\n",
    "\n",
    "k=45\n",
    "plt.figure()\n",
    "plt.subplot(1,2,1)\n",
    "plt.axis('square')\n",
    "plt.xlabel('alpha0')\n",
    "plt.ylabel('alpha1')\n",
    "plt.plot(alpha0_un_evolution,alpha1_un_evolution,'o-')\n",
    "plt.ylim(0, 1)\n",
    "plt.xlim(0, 1)\n",
    "plt.title(\"One trajectory of qualification rates.\")\n",
    "\n",
    "alpha0, alpha1 =  alpha0List[k],alpha1List[k]\n",
    "alpha0_un_evolution=[alpha0]\n",
    "alpha1_un_evolution=[alpha1]\n",
    "t = 0\n",
    "while t < MAX_ITERATION_EQUILIBRIUM:\n",
    "    t+=1\n",
    "    # Group-wise ratio\n",
    "    ratio = P0*(1-alpha0),(1-P0)*(1-alpha1),P0*alpha0,(1-P0)*alpha1  \n",
    "\n",
    "    # Sampling according to the group-wise ratios\n",
    "    X_train,y_train,sensitive_features_train = dataSelection(X,y,sensitive_features,subgroups_indices,ratio)\n",
    "\n",
    "    # train (fair) classifiers\n",
    "    pr_un,acc_un,tpr_un,fpr_un = eva_classifier(X_train,y_train,sensitive_features_train)\n",
    "\n",
    "    # transitions\n",
    "    alpha0_un_evolution.append(transition(alpha0,\n",
    "                                          tpr_un[\"African-American\"],\n",
    "                                          fpr_un[\"African-American\"],\n",
    "                                          T, group = 0))\n",
    "\n",
    "    alpha1_un_evolution.append(transition(alpha1,\n",
    "                                          tpr_un[\"Caucasian\"],fpr_un[\"Caucasian\"],\n",
    "                                          T, group = 1))\n",
    "\n",
    "    alpha0 = alpha0_un_evolution[-1]\n",
    "    alpha1 = alpha1_un_evolution[-1]\n",
    "plt.subplot(1,2,2)\n",
    "plt.axis('square')\n",
    "plt.xlabel('alpha0')\n",
    "plt.ylabel('alpha1')\n",
    "plt.plot(alpha0_un_evolution,alpha1_un_evolution,'o-')\n",
    "plt.ylim(0, 1)\n",
    "plt.xlim(0, 1)\n",
    "\n",
    "\n",
    "plt.show()\n"
   ]
  },
  {
   "cell_type": "markdown",
   "metadata": {},
   "source": [
    "**Equilibrium.** By study 50 different beginning points, we plot the last 5-interation results. It shows that there is one unique equilibria in the UN case."
   ]
  },
  {
   "cell_type": "code",
   "execution_count": 43,
   "metadata": {
    "pycharm": {},
    "scrolled": true
   },
   "outputs": [
    {
     "name": "stdout",
     "output_type": "stream",
     "text": [
      "49"
     ]
    },
    {
     "data": {
      "image/png": "[encoded data removed]",
      "text/plain": [
       "<Figure size 432x288 with 1 Axes>"
      ]
     },
     "metadata": {
      "needs_background": "light"
     },
     "output_type": "display_data"
    }
   ],
   "source": [
    "np.random.seed(777)\n",
    "MAX_ITERATION_EQUILIBRIUM = 10\n",
    "\n",
    "plt.figure()\n",
    "\n",
    "for k in range(NUM_SAMPLES):\n",
    "    sys.stdout.write(\"\\r{0}\".format(str(k)))\n",
    "    \n",
    "    alpha0, alpha1 =  alpha0List[k],alpha1List[k]\n",
    "    alpha0_un_evolution=[alpha0]\n",
    "    alpha1_un_evolution=[alpha1]\n",
    "    t = 0\n",
    "    while t < MAX_ITERATION_EQUILIBRIUM:\n",
    "        t+=1\n",
    "        # r_label0_group0,r_label0_group1,r_label1_group0,r_label1_group1 \n",
    "        ratio = P0*(1-alpha0),(1-P0)*(1-alpha1),P0*alpha0,(1-P0)*alpha1  \n",
    "        \n",
    "        # sample individuals from 4 sub-groups\n",
    "        X_train,y_train,sensitive_features_train = dataSelection(X,y,sensitive_features,subgroups_indices,ratio)\n",
    "        \n",
    "        # train (fair) classifiers\n",
    "        pr_un,acc_un,tpr_un,fpr_un = eva_classifier(X_train,y_train,sensitive_features_train)\n",
    "        \n",
    "        # transitions\n",
    "        alpha0_un_evolution.append(transition(alpha0,\n",
    "                                              tpr_un[\"African-American\"],\n",
    "                                              fpr_un[\"African-American\"],\n",
    "                                              T, group = 0))\n",
    "        \n",
    "        alpha1_un_evolution.append(transition(alpha1,\n",
    "                                              tpr_un[\"Caucasian\"],fpr_un[\"Caucasian\"],\n",
    "                                              T, group = 1))\n",
    "\n",
    "        alpha0 = alpha0_un_evolution[-1]\n",
    "        alpha1 = alpha1_un_evolution[-1]\n",
    "    plt.axis('square')\n",
    "    plt.plot(alpha0List,alpha1List,'*')\n",
    "    plt.xlabel('alpha0')\n",
    "    plt.ylabel('alpha1')\n",
    "    plt.plot(alpha0_un_evolution[-5:],alpha1_un_evolution[-5:],'o',label='No.'+str(k))\n",
    "    plt.ylim(0, 1)\n",
    "    plt.xlim(0, 1)\n",
    "plt.title(\"Switch equilibrium of qualification rate\")\n",
    "plt.show()\n"
   ]
  },
  {
   "cell_type": "markdown",
   "metadata": {
    "pycharm": {}
   },
   "source": [
    "### The DP case\n",
    "**Evolution behavior.** The figure indicates that in the DP case, qualification rates converge to an unique equiibria."
   ]
  },
  {
   "cell_type": "code",
   "execution_count": 59,
   "metadata": {
    "pycharm": {}
   },
   "outputs": [
    {
     "data": {
      "image/png": "[encoded data removed]",
      "text/plain": [
       "<Figure size 432x288 with 2 Axes>"
      ]
     },
     "metadata": {
      "needs_background": "light"
     },
     "output_type": "display_data"
    }
   ],
   "source": [
    "np.random.seed(777)\n",
    "MAX_ITERATION_EQUILIBRIUM = 10\n",
    "\n",
    "k=0\n",
    "\n",
    "alpha0, alpha1 =  alpha0List[k],alpha1List[k]\n",
    "alpha0_dp_evolution=[alpha0]\n",
    "alpha1_dp_evolution=[alpha1]\n",
    "t = 0\n",
    "while t < MAX_ITERATION_EQUILIBRIUM:\n",
    "    t+=1\n",
    "    # r_label0_group0,r_label0_group1,r_label1_group0,r_label1_group1 \n",
    "    ratio = P0*(1-alpha0),(1-P0)*(1-alpha1),P0*alpha0,(1-P0)*alpha1  \n",
    "\n",
    "    # sample individuals from 4 sub-groups\n",
    "    X_train,y_train,sensitive_features_train = dataSelection(X,y,sensitive_features,subgroups_indices,ratio)\n",
    "\n",
    "    # train (fair) classifiers\n",
    "    pr,acc,tpr,fpr = eva_classifier_dp(X_train,y_train,sensitive_features_train)\n",
    "\n",
    "    # transitions\n",
    "    alpha0_dp_evolution.append(transition(alpha0,\n",
    "                                          tpr[\"African-American\"],\n",
    "                                          fpr[\"African-American\"],\n",
    "                                          T, group = 0))\n",
    "\n",
    "    alpha1_dp_evolution.append(transition(alpha1,\n",
    "                                          tpr[\"Caucasian\"],fpr[\"Caucasian\"],\n",
    "                                          T, group = 1))\n",
    "\n",
    "    alpha0 = alpha0_dp_evolution[-1]\n",
    "    alpha1 = alpha1_dp_evolution[-1]\n",
    "\n",
    "plt.figure()\n",
    "plt.subplot(1,2,1)\n",
    "plt.axis('square')\n",
    "plt.xlabel('alpha0')\n",
    "plt.ylabel('alpha1')\n",
    "plt.plot(alpha0_dp_evolution,alpha1_dp_evolution,'o-')\n",
    "plt.ylim(0, 1)\n",
    "plt.xlim(0, 1)\n",
    "plt.title(\"One trajectory of qualification rates under DP.\")\n",
    "\n",
    "k=45\n",
    "\n",
    "alpha0, alpha1 =  alpha0List[k],alpha1List[k]\n",
    "alpha0_dp_evolution=[alpha0]\n",
    "alpha1_dp_evolution=[alpha1]\n",
    "t = 0\n",
    "while t < MAX_ITERATION_EQUILIBRIUM:\n",
    "    t+=1\n",
    "    # r_label0_group0,r_label0_group1,r_label1_group0,r_label1_group1 \n",
    "    ratio = P0*(1-alpha0),(1-P0)*(1-alpha1),P0*alpha0,(1-P0)*alpha1  \n",
    "\n",
    "    # sample individuals from 4 sub-groups\n",
    "    X_train,y_train,sensitive_features_train = dataSelection(X,y,sensitive_features,subgroups_indices,ratio)\n",
    "\n",
    "    # train (fair) classifiers\n",
    "    pr,acc,tpr,fpr = eva_classifier_dp(X_train,y_train,sensitive_features_train)\n",
    "\n",
    "    # transitions\n",
    "    alpha0_dp_evolution.append(transition(alpha0,\n",
    "                                          tpr[\"African-American\"],\n",
    "                                          fpr[\"African-American\"],\n",
    "                                          T, group = 0))\n",
    "\n",
    "    alpha1_dp_evolution.append(transition(alpha1,\n",
    "                                          tpr[\"Caucasian\"],fpr[\"Caucasian\"],\n",
    "                                          T, group = 1))\n",
    "\n",
    "    alpha0 = alpha0_dp_evolution[-1]\n",
    "    alpha1 = alpha1_dp_evolution[-1]\n",
    "\n",
    "plt.subplot(1,2,2)\n",
    "plt.axis('square')\n",
    "plt.xlabel('alpha0')\n",
    "plt.ylabel('alpha1')\n",
    "plt.plot(alpha0_dp_evolution,alpha1_dp_evolution,'o-')\n",
    "plt.ylim(0, 1)\n",
    "plt.xlim(0, 1)\n",
    "plt.show()\n"
   ]
  },
  {
   "cell_type": "markdown",
   "metadata": {},
   "source": [
    "**Equilibrium.** By study 50 different beginning points, we plot the last 5-interation results. It shows that there is one unique equilibria in the DP case."
   ]
  },
  {
   "cell_type": "code",
   "execution_count": 45,
   "metadata": {
    "pycharm": {},
    "scrolled": true
   },
   "outputs": [
    {
     "name": "stdout",
     "output_type": "stream",
     "text": [
      "49"
     ]
    },
    {
     "data": {
      "image/png": "[encoded data removed]",
      "text/plain": [
       "<Figure size 432x288 with 1 Axes>"
      ]
     },
     "metadata": {
      "needs_background": "light"
     },
     "output_type": "display_data"
    }
   ],
   "source": [
    "np.random.seed(777)\n",
    "MAX_ITERATION_EQUILIBRIUM = 10\n",
    "\n",
    "plt.figure()\n",
    "\n",
    "for k in range(NUM_SAMPLES):\n",
    "    sys.stdout.write(\"\\r{0}\".format(str(k)))\n",
    "    \n",
    "    alpha0, alpha1 =  alpha0List[k],alpha1List[k]\n",
    "    alpha0_dp_evolution=[alpha0]\n",
    "    alpha1_dp_evolution=[alpha1]\n",
    "    t = 0\n",
    "    while t < MAX_ITERATION_EQUILIBRIUM:\n",
    "        t+=1\n",
    "        # r_label0_group0,r_label0_group1,r_label1_group0,r_label1_group1 \n",
    "        ratio = P0*(1-alpha0),(1-P0)*(1-alpha1),P0*alpha0,(1-P0)*alpha1  \n",
    "        \n",
    "        # sample individuals from 4 sub-groups\n",
    "        X_train,y_train,sensitive_features_train = dataSelection(X,y,sensitive_features,subgroups_indices,ratio)\n",
    "        \n",
    "        # train (fair) classifiers\n",
    "        pr,acc,tpr,fpr = eva_classifier_dp(X_train,y_train,sensitive_features_train)\n",
    "        \n",
    "        # transitions\n",
    "        alpha0_dp_evolution.append(transition(alpha0,\n",
    "                                              tpr[\"African-American\"],\n",
    "                                              fpr[\"African-American\"],\n",
    "                                              T, group = 0))\n",
    "        \n",
    "        alpha1_dp_evolution.append(transition(alpha1,\n",
    "                                              tpr[\"Caucasian\"],fpr[\"Caucasian\"],\n",
    "                                              T, group = 1))\n",
    "\n",
    "        alpha0 = alpha0_dp_evolution[-1]\n",
    "        alpha1 = alpha1_dp_evolution[-1]\n",
    "    plt.axis('square')\n",
    "    plt.plot(alpha0List,alpha1List,'*')\n",
    "    plt.xlabel('alpha0')\n",
    "    plt.ylabel('alpha1')\n",
    "    plt.plot(alpha0_dp_evolution[-5:],alpha1_dp_evolution[-5:],'o',label='No.'+str(k))\n",
    "    plt.ylim(0, 1)\n",
    "    plt.xlim(0, 1)\n",
    "plt.title(\"Switch equilibrium of qualification rate under DP\")\n",
    "plt.show()\n"
   ]
  },
  {
   "cell_type": "markdown",
   "metadata": {
    "pycharm": {}
   },
   "source": [
    "### The EO case\n",
    "\n",
    "**Evolution behavior.**"
   ]
  },
  {
   "cell_type": "code",
   "execution_count": 58,
   "metadata": {
    "pycharm": {},
    "scrolled": false
   },
   "outputs": [
    {
     "data": {
      "image/png": "[encoded data removed]",
      "text/plain": [
       "<Figure size 432x288 with 2 Axes>"
      ]
     },
     "metadata": {
      "needs_background": "light"
     },
     "output_type": "display_data"
    }
   ],
   "source": [
    "np.random.seed(777)\n",
    "MAX_ITERATION_EQUILIBRIUM = 10\n",
    "\n",
    "k=0\n",
    "\n",
    "alpha0, alpha1 =  alpha0List[k],alpha1List[k]\n",
    "alpha0_eo_evolution=[alpha0]\n",
    "alpha1_eo_evolution=[alpha1]\n",
    "t = 0\n",
    "while t < MAX_ITERATION_EQUILIBRIUM:\n",
    "    t+=1\n",
    "    # r_label0_group0,r_label0_group1,r_label1_group0,r_label1_group1 \n",
    "    ratio = P0*(1-alpha0),(1-P0)*(1-alpha1),P0*alpha0,(1-P0)*alpha1  \n",
    "\n",
    "    # sample individuals from 4 sub-groups\n",
    "    X_train,y_train,sensitive_features_train = dataSelection(X,y,sensitive_features,subgroups_indices,ratio)\n",
    "\n",
    "    # train (fair) classifiers\n",
    "    pr,acc,tpr,fpr = eva_classifier_eo(X_train,y_train,sensitive_features_train)\n",
    "\n",
    "    # transitions\n",
    "    alpha0_eo_evolution.append(transition(alpha0,tpr[\"African-American\"],\n",
    "                                             fpr[\"African-American\"],\n",
    "                                             T, group = 0))\n",
    "\n",
    "    alpha1_eo_evolution.append(transition(alpha1,tpr[\"Caucasian\"],\n",
    "                                             fpr[\"Caucasian\"],\n",
    "                                             T, group = 1))\n",
    "\n",
    "    alpha0 = alpha0_eo_evolution[-1]\n",
    "    alpha1 = alpha1_eo_evolution[-1]\n",
    "\n",
    "plt.figure()\n",
    "plt.subplot(1,2,1)\n",
    "\n",
    "plt.axis('square')\n",
    "plt.xlabel('alpha0')\n",
    "plt.ylabel('alpha1')\n",
    "plt.plot(alpha0_eo_evolution,alpha1_eo_evolution,'o-')\n",
    "plt.ylim(0, 1)\n",
    "plt.xlim(0, 1)\n",
    "plt.title(\"One trajectory of qualification rates under eo.\")\n",
    "\n",
    "\n",
    "k=45\n",
    "\n",
    "alpha0, alpha1 =  alpha0List[k],alpha1List[k]\n",
    "alpha0_eo_evolution=[alpha0]\n",
    "alpha1_eo_evolution=[alpha1]\n",
    "t = 0\n",
    "while t < MAX_ITERATION_EQUILIBRIUM:\n",
    "    t+=1\n",
    "    # r_label0_group0,r_label0_group1,r_label1_group0,r_label1_group1 \n",
    "    ratio = P0*(1-alpha0),(1-P0)*(1-alpha1),P0*alpha0,(1-P0)*alpha1  \n",
    "\n",
    "    # sample individuals from 4 sub-groups\n",
    "    X_train,y_train,sensitive_features_train = dataSelection(X,y,sensitive_features,subgroups_indices,ratio)\n",
    "\n",
    "    # train (fair) classifiers\n",
    "    pr,acc,tpr,fpr = eva_classifier_eo(X_train,y_train,sensitive_features_train)\n",
    "\n",
    "    # transitions\n",
    "    alpha0_eo_evolution.append(transition(alpha0,tpr[\"African-American\"],\n",
    "                                             fpr[\"African-American\"],\n",
    "                                             T, group = 0))\n",
    "\n",
    "    alpha1_eo_evolution.append(transition(alpha1,tpr[\"Caucasian\"],\n",
    "                                             fpr[\"Caucasian\"],\n",
    "                                             T, group = 1))\n",
    "\n",
    "    alpha0 = alpha0_eo_evolution[-1]\n",
    "    alpha1 = alpha1_eo_evolution[-1]\n",
    "plt.subplot(1,2,2)\n",
    "plt.axis('square')\n",
    "plt.xlabel('alpha0')\n",
    "plt.ylabel('alpha1')\n",
    "plt.plot(alpha0_eo_evolution,alpha1_eo_evolution,'o-')\n",
    "plt.ylim(0, 1)\n",
    "plt.xlim(0, 1)\n",
    "plt.show()\n",
    "\n"
   ]
  },
  {
   "cell_type": "markdown",
   "metadata": {},
   "source": [
    "**Equilibrium.**  There is one unique equilibria."
   ]
  },
  {
   "cell_type": "code",
   "execution_count": 47,
   "metadata": {
    "pycharm": {},
    "scrolled": false
   },
   "outputs": [
    {
     "name": "stdout",
     "output_type": "stream",
     "text": [
      "49"
     ]
    },
    {
     "data": {
      "image/png": "[encoded data removed]",
      "text/plain": [
       "<Figure size 432x288 with 1 Axes>"
      ]
     },
     "metadata": {
      "needs_background": "light"
     },
     "output_type": "display_data"
    }
   ],
   "source": [
    "np.random.seed(777)\n",
    "MAX_ITERATION_EQUILIBRIUM = 10\n",
    "\n",
    "plt.figure()\n",
    "NUM_SAMPLES = 50\n",
    "for k in range(NUM_SAMPLES):\n",
    "    sys.stdout.write(\"\\r{0}\".format(str(k)))    \n",
    "    alpha0, alpha1 =  alpha0List[k],alpha1List[k]\n",
    "    alpha0_eo_evolution=[alpha0]\n",
    "    alpha1_eo_evolution=[alpha1]\n",
    "    t = 0\n",
    "    while t < MAX_ITERATION_EQUILIBRIUM:\n",
    "        t+=1\n",
    "        # r_label0_group0,r_label0_group1,r_label1_group0,r_label1_group1 \n",
    "        ratio = P0*(1-alpha0),(1-P0)*(1-alpha1),P0*alpha0,(1-P0)*alpha1  \n",
    "\n",
    "        # sample individuals from 4 sub-groups\n",
    "        X_train,y_train,sensitive_features_train = dataSelection(X,y,sensitive_features,subgroups_indices,ratio)\n",
    "\n",
    "        # train (fair) classifiers\n",
    "        pr,acc,tpr,fpr = eva_classifier_eo(X_train,y_train,sensitive_features_train)\n",
    "\n",
    "        # transitions\n",
    "        alpha0_eo_evolution.append(transition(alpha0,tpr[\"African-American\"],\n",
    "                                                 fpr[\"African-American\"],\n",
    "                                                 T, group = 0))\n",
    "\n",
    "        alpha1_eo_evolution.append(transition(alpha1,tpr[\"Caucasian\"],\n",
    "                                                 fpr[\"Caucasian\"],\n",
    "                                                 T, group = 1))\n",
    "\n",
    "        alpha0 = alpha0_eo_evolution[-1]\n",
    "        alpha1 = alpha1_eo_evolution[-1]\n",
    "    plt.axis('square')\n",
    "    plt.plot(alpha0List,alpha1List,'*')\n",
    "    plt.xlabel('alpha0')\n",
    "    plt.ylabel('alpha1')\n",
    "    plt.plot(alpha0_eo_evolution[-5:],alpha1_eo_evolution[-5:],'o',label='No.'+str(k))\n",
    "    plt.ylim(0, 1)\n",
    "    plt.xlim(0, 1)\n",
    "plt.title(\"Switch equilibrium of qualification rate under EO\")\n",
    "plt.show()\n"
   ]
  },
  {
   "cell_type": "markdown",
   "metadata": {
    "pycharm": {}
   },
   "source": [
    "### The EqOpt case\n",
    "**Evolution behvior.** "
   ]
  },
  {
   "cell_type": "code",
   "execution_count": 48,
   "metadata": {
    "pycharm": {}
   },
   "outputs": [
    {
     "data": {
      "image/png": "[encoded data removed]",
      "text/plain": [
       "<Figure size 432x288 with 2 Axes>"
      ]
     },
     "metadata": {
      "needs_background": "light"
     },
     "output_type": "display_data"
    }
   ],
   "source": [
    "np.random.seed(777)\n",
    "MAX_ITERATION_EQUILIBRIUM = 10\n",
    "\n",
    "k=0\n",
    "\n",
    "alpha0, alpha1 =  alpha0List[k],alpha1List[k]\n",
    "alpha0_eqopt_evolution=[alpha0]\n",
    "alpha1_eqopt_evolution=[alpha1]\n",
    "t = 0\n",
    "while t < MAX_ITERATION_EQUILIBRIUM:\n",
    "    t+=1\n",
    "    # r_label0_group0,r_label0_group1,r_label1_group0,r_label1_group1 \n",
    "    ratio = P0*(1-alpha0),(1-P0)*(1-alpha1),P0*alpha0,(1-P0)*alpha1  \n",
    "\n",
    "    # sample individuals from 4 sub-groups\n",
    "    X_train,y_train,sensitive_features_train = dataSelection(X,y,sensitive_features,subgroups_indices,ratio)\n",
    "\n",
    "    # train (fair) classifiers\n",
    "    pr,acc,tpr,fpr = eva_classifier_eqopt(X_train,y_train,sensitive_features_train)\n",
    "\n",
    "    # transitions\n",
    "    alpha0_eqopt_evolution.append(transition(alpha0,tpr[\"African-American\"],\n",
    "                                             fpr[\"African-American\"],\n",
    "                                             T, group = 0))\n",
    "\n",
    "    alpha1_eqopt_evolution.append(transition(alpha1,tpr[\"Caucasian\"],\n",
    "                                             fpr[\"Caucasian\"],\n",
    "                                             T, group = 1))\n",
    "\n",
    "    alpha0 = alpha0_eqopt_evolution[-1]\n",
    "    alpha1 = alpha1_eqopt_evolution[-1]\n",
    "\n",
    "plt.figure()\n",
    "plt.subplot(1,2,1)\n",
    "plt.axis('square')\n",
    "plt.xlabel('alpha0')\n",
    "plt.ylabel('alpha1')\n",
    "plt.plot(alpha0_eqopt_evolution,alpha1_eqopt_evolution,'o-')\n",
    "plt.ylim(0, 1)\n",
    "plt.xlim(0, 1)\n",
    "plt.title(\"One trajectory of qualification rates under EqOpt.\")\n",
    "\n",
    "\n",
    "\n",
    "k=45\n",
    "\n",
    "alpha0, alpha1 =  alpha0List[k],alpha1List[k]\n",
    "alpha0_eqopt_evolution=[alpha0]\n",
    "alpha1_eqopt_evolution=[alpha1]\n",
    "t = 0\n",
    "while t < MAX_ITERATION_EQUILIBRIUM:\n",
    "    t+=1\n",
    "    # r_label0_group0,r_label0_group1,r_label1_group0,r_label1_group1 \n",
    "    ratio = P0*(1-alpha0),(1-P0)*(1-alpha1),P0*alpha0,(1-P0)*alpha1  \n",
    "\n",
    "    # sample individuals from 4 sub-groups\n",
    "    X_train,y_train,sensitive_features_train = dataSelection(X,y,sensitive_features,subgroups_indices,ratio)\n",
    "\n",
    "    # train (fair) classifiers\n",
    "    pr,acc,tpr,fpr = eva_classifier_eqopt(X_train,y_train,sensitive_features_train)\n",
    "\n",
    "    # transitions\n",
    "    alpha0_eqopt_evolution.append(transition(alpha0,tpr[\"African-American\"],\n",
    "                                             fpr[\"African-American\"],\n",
    "                                             T, group = 0))\n",
    "\n",
    "    alpha1_eqopt_evolution.append(transition(alpha1,tpr[\"Caucasian\"],\n",
    "                                             fpr[\"Caucasian\"],\n",
    "                                             T, group = 1))\n",
    "\n",
    "    alpha0 = alpha0_eqopt_evolution[-1]\n",
    "    alpha1 = alpha1_eqopt_evolution[-1]\n",
    "plt.subplot(1,2,2)\n",
    "plt.axis('square')\n",
    "plt.xlabel('alpha0')\n",
    "plt.ylabel('alpha1')\n",
    "plt.plot(alpha0_eqopt_evolution,alpha1_eqopt_evolution,'o-')\n",
    "plt.ylim(0, 1)\n",
    "plt.xlim(0, 1)\n",
    "plt.show()\n",
    "\n"
   ]
  },
  {
   "cell_type": "markdown",
   "metadata": {},
   "source": [
    "**Equilibrium.** The figure shows that there is an unique equilibria in the case of EqOpt."
   ]
  },
  {
   "cell_type": "code",
   "execution_count": 49,
   "metadata": {
    "pycharm": {},
    "scrolled": true
   },
   "outputs": [
    {
     "name": "stdout",
     "output_type": "stream",
     "text": [
      "49"
     ]
    },
    {
     "data": {
      "image/png": "[encoded data removed]",
      "text/plain": [
       "<Figure size 432x288 with 1 Axes>"
      ]
     },
     "metadata": {
      "needs_background": "light"
     },
     "output_type": "display_data"
    }
   ],
   "source": [
    "np.random.seed(777)\n",
    "MAX_ITERATION_EQUILIBRIUM = 50\n",
    "\n",
    "plt.figure()\n",
    "\n",
    "for k in range(NUM_SAMPLES):\n",
    "    sys.stdout.write(\"\\r{0}\".format(str(k)))\n",
    "    alpha0, alpha1 =  alpha0List[k],alpha1List[k]\n",
    "    alpha0_eqopt_evolution=[alpha0]\n",
    "    alpha1_eqopt_evolution=[alpha1]\n",
    "    t = 0\n",
    "    while t < MAX_ITERATION_EQUILIBRIUM:\n",
    "        t+=1\n",
    "        # r_label0_group0,r_label0_group1,r_label1_group0,r_label1_group1 \n",
    "        ratio = P0*(1-alpha0),(1-P0)*(1-alpha1),P0*alpha0,(1-P0)*alpha1  \n",
    "\n",
    "        # sample individuals from 4 sub-groups\n",
    "        X_train,y_train,sensitive_features_train = dataSelection(X,y,sensitive_features,subgroups_indices,ratio)\n",
    "\n",
    "        # train (fair) classifiers\n",
    "        pr,acc,tpr,fpr = eva_classifier_eqopt(X_train,y_train,sensitive_features_train)\n",
    "\n",
    "        # transitions\n",
    "        alpha0_eqopt_evolution.append(transition(alpha0,tpr[\"African-American\"],\n",
    "                                                 fpr[\"African-American\"],\n",
    "                                                 T, group = 0))\n",
    "\n",
    "        alpha1_eqopt_evolution.append(transition(alpha1,tpr[\"Caucasian\"],\n",
    "                                                 fpr[\"Caucasian\"],\n",
    "                                                 T, group = 1))\n",
    "\n",
    "        alpha0 = alpha0_eqopt_evolution[-1]\n",
    "        alpha1 = alpha1_eqopt_evolution[-1]\n",
    "    plt.axis('square')\n",
    "    plt.plot(alpha0List,alpha1List,'*')\n",
    "    plt.xlabel('alpha0')\n",
    "    plt.ylabel('alpha1')\n",
    "    plt.plot(alpha0_eqopt_evolution[-5:],alpha1_eqopt_evolution[-5:],'o',label='No.'+str(k))\n",
    "    plt.ylim(0, 1)\n",
    "    plt.xlim(0, 1)\n",
    "plt.title(\"Switch equilibrium of qualification rate under EqOpt\")\n",
    "plt.show()\n"
   ]
  },
  {
   "cell_type": "markdown",
   "metadata": {},
   "source": [
    "## Long-term impact of fairness constraints\n",
    "It turns out that under Condition 1(ii),  \n",
    "- Fairness constraints promote the equality.\n",
    "- DP and EO help increase the overall qualification rate, whereas EqOpt decreases it."
   ]
  },
  {
   "cell_type": "code",
   "execution_count": 56,
   "metadata": {},
   "outputs": [
    {
     "name": "stdout",
     "output_type": "stream",
     "text": [
      "The equality measure of UN:  0.3211994365326405\n",
      "The equality measure of DP:  0.22939390828299194\n",
      "The equality measure of EO:  0.25144110660140395\n",
      "The equality measure of EqOpt:  0.2754981031152207\n"
     ]
    }
   ],
   "source": [
    "print('The equality measure of UN: ', alpha0_un_evolution[-1]-alpha1_un_evolution[-1])\n",
    "print('The equality measure of DP: ', alpha0_dp_evolution[-1]-alpha1_dp_evolution[-1])\n",
    "print('The equality measure of EO: ', alpha0_eo_evolution[-1]-alpha1_eo_evolution[-1])\n",
    "print('The equality measure of EqOpt: ', alpha0_eqopt_evolution[-1]-alpha1_eqopt_evolution[-1])"
   ]
  },
  {
   "cell_type": "code",
   "execution_count": 55,
   "metadata": {},
   "outputs": [
    {
     "name": "stdout",
     "output_type": "stream",
     "text": [
      "The overall qualification rate measure of UN:  0.9364126686356913\n",
      "The overall qualification rate measure of DP:  1.029309171424627\n",
      "The overall qualification rate measure of EO:  0.97932820795762\n",
      "The overall qualification rate measure of EqOpt:  0.8423662577445511\n"
     ]
    }
   ],
   "source": [
    "print('The overall qualification rate measure of UN: ', alpha0_un_evolution[-1]+alpha1_un_evolution[-1])\n",
    "print('The overall qualification rate measure of DP: ', alpha0_dp_evolution[-1]+alpha1_dp_evolution[-1])\n",
    "print('The overall qualification rate measure of EO: ', alpha0_eo_evolution[-1]+alpha1_eo_evolution[-1])\n",
    "print('The overall qualification rate measure of EqOpt: ', alpha0_eqopt_evolution[-1]+alpha1_eqopt_evolution[-1])"
   ]
  }
 ],
 "metadata": {
  "kernelspec": {
   "display_name": "Python 3",
   "language": "python",
   "name": "python3"
  },
  "language_info": {
   "codemirror_mode": {
    "name": "ipython",
    "version": 3
   },
   "file_extension": ".py",
   "mimetype": "text/x-python",
   "name": "python",
   "nbconvert_exporter": "python",
   "pygments_lexer": "ipython3",
   "version": "3.7.3"
  }
 },
 "nbformat": 4,
 "nbformat_minor": 2
}
